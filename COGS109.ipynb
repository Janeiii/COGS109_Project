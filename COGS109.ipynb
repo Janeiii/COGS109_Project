{
  "nbformat": 4,
  "nbformat_minor": 0,
  "metadata": {
    "colab": {
      "name": "COGS109.ipynb",
      "provenance": [],
      "collapsed_sections": []
    },
    "kernelspec": {
      "name": "python3",
      "display_name": "Python 3"
    },
    "language_info": {
      "name": "python"
    }
  },
  "cells": [
    {
      "cell_type": "code",
      "metadata": {
        "id": "IETYsxtgXGZ6"
      },
      "source": [
        "import pandas as pd\n",
        "import numpy as np\n",
        "import matplotlib.pyplot as plt\n",
        "from sklearn.preprocessing import StandardScaler\n",
        "from sklearn.model_selection import train_test_split\n",
        "from sklearn.linear_model import LogisticRegression\n",
        "from sklearn.metrics import log_loss, roc_auc_score, recall_score, precision_score, average_precision_score, f1_score, classification_report, accuracy_score, plot_roc_curve, plot_precision_recall_curve, plot_confusion_matrix\n"
      ],
      "execution_count": null,
      "outputs": []
    },
    {
      "cell_type": "code",
      "metadata": {
        "colab": {
          "base_uri": "https://localhost:8080/",
          "height": 204
        },
        "id": "6lCNScMxXJNY",
        "outputId": "3ba3b83f-71d9-4a6b-87ca-1fba417d633d"
      },
      "source": [
        "#Loading dataset\n",
        "data = pd.read_csv('/content/watermelon_data.csv')\n",
        "#data = data.drop(columns = 'Num')\n",
        "data.head()"
      ],
      "execution_count": null,
      "outputs": [
        {
          "output_type": "execute_result",
          "data": {
            "text/html": [
              "<div>\n",
              "<style scoped>\n",
              "    .dataframe tbody tr th:only-of-type {\n",
              "        vertical-align: middle;\n",
              "    }\n",
              "\n",
              "    .dataframe tbody tr th {\n",
              "        vertical-align: top;\n",
              "    }\n",
              "\n",
              "    .dataframe thead th {\n",
              "        text-align: right;\n",
              "    }\n",
              "</style>\n",
              "<table border=\"1\" class=\"dataframe\">\n",
              "  <thead>\n",
              "    <tr style=\"text-align: right;\">\n",
              "      <th></th>\n",
              "      <th>Num</th>\n",
              "      <th>Color</th>\n",
              "      <th>Root</th>\n",
              "      <th>Sound</th>\n",
              "      <th>Texture</th>\n",
              "      <th>Belly_button</th>\n",
              "      <th>Touch</th>\n",
              "      <th>Density</th>\n",
              "      <th>sugar_rate</th>\n",
              "      <th>GB</th>\n",
              "    </tr>\n",
              "  </thead>\n",
              "  <tbody>\n",
              "    <tr>\n",
              "      <th>0</th>\n",
              "      <td>1</td>\n",
              "      <td>Green</td>\n",
              "      <td>rolled up</td>\n",
              "      <td>turbid</td>\n",
              "      <td>clear</td>\n",
              "      <td>sunken</td>\n",
              "      <td>slippery</td>\n",
              "      <td>0.697</td>\n",
              "      <td>0.460</td>\n",
              "      <td>Yes</td>\n",
              "    </tr>\n",
              "    <tr>\n",
              "      <th>1</th>\n",
              "      <td>2</td>\n",
              "      <td>Dark</td>\n",
              "      <td>rolled up</td>\n",
              "      <td>low</td>\n",
              "      <td>clear</td>\n",
              "      <td>sunken</td>\n",
              "      <td>slippery</td>\n",
              "      <td>0.774</td>\n",
              "      <td>0.386</td>\n",
              "      <td>Yes</td>\n",
              "    </tr>\n",
              "    <tr>\n",
              "      <th>2</th>\n",
              "      <td>3</td>\n",
              "      <td>Dark</td>\n",
              "      <td>rolled up</td>\n",
              "      <td>turbid</td>\n",
              "      <td>clear</td>\n",
              "      <td>sunken</td>\n",
              "      <td>slippery</td>\n",
              "      <td>0.634</td>\n",
              "      <td>0.264</td>\n",
              "      <td>No</td>\n",
              "    </tr>\n",
              "    <tr>\n",
              "      <th>3</th>\n",
              "      <td>4</td>\n",
              "      <td>Green</td>\n",
              "      <td>rolled up</td>\n",
              "      <td>low</td>\n",
              "      <td>clear</td>\n",
              "      <td>sunken</td>\n",
              "      <td>slippery</td>\n",
              "      <td>0.608</td>\n",
              "      <td>0.318</td>\n",
              "      <td>Yes</td>\n",
              "    </tr>\n",
              "    <tr>\n",
              "      <th>4</th>\n",
              "      <td>5</td>\n",
              "      <td>light</td>\n",
              "      <td>rolled up</td>\n",
              "      <td>turbid</td>\n",
              "      <td>clear</td>\n",
              "      <td>sunken</td>\n",
              "      <td>slippery</td>\n",
              "      <td>0.556</td>\n",
              "      <td>0.215</td>\n",
              "      <td>Yes</td>\n",
              "    </tr>\n",
              "  </tbody>\n",
              "</table>\n",
              "</div>"
            ],
            "text/plain": [
              "   Num  Color       Root   Sound  ...     Touch Density sugar_rate   GB\n",
              "0    1  Green  rolled up  turbid  ...  slippery   0.697      0.460  Yes\n",
              "1    2   Dark  rolled up     low  ...  slippery   0.774      0.386  Yes\n",
              "2    3   Dark  rolled up  turbid  ...  slippery   0.634      0.264   No\n",
              "3    4  Green  rolled up     low  ...  slippery   0.608      0.318  Yes\n",
              "4    5  light  rolled up  turbid  ...  slippery   0.556      0.215  Yes\n",
              "\n",
              "[5 rows x 10 columns]"
            ]
          },
          "metadata": {
            "tags": []
          },
          "execution_count": 26
        }
      ]
    },
    {
      "cell_type": "code",
      "metadata": {
        "colab": {
          "base_uri": "https://localhost:8080/"
        },
        "id": "DWqX3jcjXN0U",
        "outputId": "0b19aa59-2389-4b44-c948-2766a317b418"
      },
      "source": [
        "data.info()\n",
        "\n",
        "print(\"Column items in the dataset:\")\n",
        "print(data.columns.values)\n",
        "\n",
        "print(\"Categorical columns:\")\n",
        "cat_cols = data.select_dtypes(include = 'object').columns.values\n",
        "print(cat_cols)\n",
        "\n",
        "print(\"Numerical columns:\")\n",
        "numeric_cols = data.select_dtypes(include = np.number).columns.values\n",
        "print(numeric_cols)\n"
      ],
      "execution_count": null,
      "outputs": [
        {
          "output_type": "stream",
          "text": [
            "<class 'pandas.core.frame.DataFrame'>\n",
            "RangeIndex: 209 entries, 0 to 208\n",
            "Data columns (total 10 columns):\n",
            " #   Column        Non-Null Count  Dtype  \n",
            "---  ------        --------------  -----  \n",
            " 0   Num           209 non-null    int64  \n",
            " 1   Color         209 non-null    object \n",
            " 2   Root          209 non-null    object \n",
            " 3   Sound         209 non-null    object \n",
            " 4   Texture       209 non-null    object \n",
            " 5   Belly_button  209 non-null    object \n",
            " 6   Touch         209 non-null    object \n",
            " 7   Density       209 non-null    float64\n",
            " 8   sugar_rate    209 non-null    float64\n",
            " 9   GB            209 non-null    object \n",
            "dtypes: float64(2), int64(1), object(7)\n",
            "memory usage: 16.5+ KB\n",
            "Column items in the dataset:\n",
            "['Num' 'Color' 'Root' 'Sound' 'Texture' 'Belly_button' 'Touch' 'Density'\n",
            " 'sugar_rate' 'GB']\n",
            "Categorical columns:\n",
            "['Color' 'Root' 'Sound' 'Texture' 'Belly_button' 'Touch' 'GB']\n",
            "Numerical columns:\n",
            "['Num' 'Density' 'sugar_rate']\n"
          ],
          "name": "stdout"
        }
      ]
    },
    {
      "cell_type": "code",
      "metadata": {
        "colab": {
          "base_uri": "https://localhost:8080/",
          "height": 419
        },
        "id": "Mo_AzQPQXYHz",
        "outputId": "8ff28d39-6b2d-4344-d660-294a11255e59"
      },
      "source": [
        "#Import label encoder\n",
        "  \n",
        "#label_encoder object knows how to understand word labels\n",
        "label_encoder = preprocessing.LabelEncoder()\n",
        "  \n",
        "#Encode labels in column Sex and Embarked\n",
        "data['Color']= label_encoder.fit_transform(data['Color'])\n",
        "data['Root']=label_encoder.fit_transform(data['Root'])\n",
        "data['Sound']=label_encoder.fit_transform(data['Sound'])\n",
        "data['Texture']=label_encoder.fit_transform(data['Texture'])\n",
        "data['Touch']=label_encoder.fit_transform(data['Touch'])\n",
        "data['Belly_button']=label_encoder.fit_transform(data['Belly_button'])\n",
        "data['GB'] = label_encoder.fit_transform(data['GB'])\n",
        "\n",
        "data"
      ],
      "execution_count": null,
      "outputs": [
        {
          "output_type": "execute_result",
          "data": {
            "text/html": [
              "<div>\n",
              "<style scoped>\n",
              "    .dataframe tbody tr th:only-of-type {\n",
              "        vertical-align: middle;\n",
              "    }\n",
              "\n",
              "    .dataframe tbody tr th {\n",
              "        vertical-align: top;\n",
              "    }\n",
              "\n",
              "    .dataframe thead th {\n",
              "        text-align: right;\n",
              "    }\n",
              "</style>\n",
              "<table border=\"1\" class=\"dataframe\">\n",
              "  <thead>\n",
              "    <tr style=\"text-align: right;\">\n",
              "      <th></th>\n",
              "      <th>Num</th>\n",
              "      <th>Color</th>\n",
              "      <th>Root</th>\n",
              "      <th>Sound</th>\n",
              "      <th>Texture</th>\n",
              "      <th>Belly_button</th>\n",
              "      <th>Touch</th>\n",
              "      <th>Density</th>\n",
              "      <th>sugar_rate</th>\n",
              "      <th>GB</th>\n",
              "    </tr>\n",
              "  </thead>\n",
              "  <tbody>\n",
              "    <tr>\n",
              "      <th>0</th>\n",
              "      <td>1</td>\n",
              "      <td>1</td>\n",
              "      <td>1</td>\n",
              "      <td>2</td>\n",
              "      <td>1</td>\n",
              "      <td>2</td>\n",
              "      <td>0</td>\n",
              "      <td>0.697</td>\n",
              "      <td>0.460</td>\n",
              "      <td>1</td>\n",
              "    </tr>\n",
              "    <tr>\n",
              "      <th>1</th>\n",
              "      <td>2</td>\n",
              "      <td>0</td>\n",
              "      <td>1</td>\n",
              "      <td>1</td>\n",
              "      <td>1</td>\n",
              "      <td>2</td>\n",
              "      <td>0</td>\n",
              "      <td>0.774</td>\n",
              "      <td>0.386</td>\n",
              "      <td>1</td>\n",
              "    </tr>\n",
              "    <tr>\n",
              "      <th>2</th>\n",
              "      <td>3</td>\n",
              "      <td>0</td>\n",
              "      <td>1</td>\n",
              "      <td>2</td>\n",
              "      <td>1</td>\n",
              "      <td>2</td>\n",
              "      <td>0</td>\n",
              "      <td>0.634</td>\n",
              "      <td>0.264</td>\n",
              "      <td>0</td>\n",
              "    </tr>\n",
              "    <tr>\n",
              "      <th>3</th>\n",
              "      <td>4</td>\n",
              "      <td>1</td>\n",
              "      <td>1</td>\n",
              "      <td>1</td>\n",
              "      <td>1</td>\n",
              "      <td>2</td>\n",
              "      <td>0</td>\n",
              "      <td>0.608</td>\n",
              "      <td>0.318</td>\n",
              "      <td>1</td>\n",
              "    </tr>\n",
              "    <tr>\n",
              "      <th>4</th>\n",
              "      <td>5</td>\n",
              "      <td>2</td>\n",
              "      <td>1</td>\n",
              "      <td>2</td>\n",
              "      <td>1</td>\n",
              "      <td>2</td>\n",
              "      <td>0</td>\n",
              "      <td>0.556</td>\n",
              "      <td>0.215</td>\n",
              "      <td>1</td>\n",
              "    </tr>\n",
              "    <tr>\n",
              "      <th>...</th>\n",
              "      <td>...</td>\n",
              "      <td>...</td>\n",
              "      <td>...</td>\n",
              "      <td>...</td>\n",
              "      <td>...</td>\n",
              "      <td>...</td>\n",
              "      <td>...</td>\n",
              "      <td>...</td>\n",
              "      <td>...</td>\n",
              "      <td>...</td>\n",
              "    </tr>\n",
              "    <tr>\n",
              "      <th>204</th>\n",
              "      <td>214</td>\n",
              "      <td>0</td>\n",
              "      <td>1</td>\n",
              "      <td>2</td>\n",
              "      <td>1</td>\n",
              "      <td>2</td>\n",
              "      <td>0</td>\n",
              "      <td>0.635</td>\n",
              "      <td>0.271</td>\n",
              "      <td>1</td>\n",
              "    </tr>\n",
              "    <tr>\n",
              "      <th>205</th>\n",
              "      <td>215</td>\n",
              "      <td>0</td>\n",
              "      <td>0</td>\n",
              "      <td>1</td>\n",
              "      <td>0</td>\n",
              "      <td>0</td>\n",
              "      <td>0</td>\n",
              "      <td>0.666</td>\n",
              "      <td>0.089</td>\n",
              "      <td>0</td>\n",
              "    </tr>\n",
              "    <tr>\n",
              "      <th>206</th>\n",
              "      <td>216</td>\n",
              "      <td>1</td>\n",
              "      <td>2</td>\n",
              "      <td>0</td>\n",
              "      <td>1</td>\n",
              "      <td>1</td>\n",
              "      <td>1</td>\n",
              "      <td>0.244</td>\n",
              "      <td>0.268</td>\n",
              "      <td>0</td>\n",
              "    </tr>\n",
              "    <tr>\n",
              "      <th>207</th>\n",
              "      <td>217</td>\n",
              "      <td>2</td>\n",
              "      <td>2</td>\n",
              "      <td>0</td>\n",
              "      <td>2</td>\n",
              "      <td>1</td>\n",
              "      <td>0</td>\n",
              "      <td>0.245</td>\n",
              "      <td>0.058</td>\n",
              "      <td>0</td>\n",
              "    </tr>\n",
              "    <tr>\n",
              "      <th>208</th>\n",
              "      <td>218</td>\n",
              "      <td>2</td>\n",
              "      <td>1</td>\n",
              "      <td>2</td>\n",
              "      <td>2</td>\n",
              "      <td>1</td>\n",
              "      <td>1</td>\n",
              "      <td>0.343</td>\n",
              "      <td>0.099</td>\n",
              "      <td>0</td>\n",
              "    </tr>\n",
              "  </tbody>\n",
              "</table>\n",
              "<p>209 rows × 10 columns</p>\n",
              "</div>"
            ],
            "text/plain": [
              "     Num  Color  Root  Sound  ...  Touch  Density  sugar_rate  GB\n",
              "0      1      1     1      2  ...      0    0.697       0.460   1\n",
              "1      2      0     1      1  ...      0    0.774       0.386   1\n",
              "2      3      0     1      2  ...      0    0.634       0.264   0\n",
              "3      4      1     1      1  ...      0    0.608       0.318   1\n",
              "4      5      2     1      2  ...      0    0.556       0.215   1\n",
              "..   ...    ...   ...    ...  ...    ...      ...         ...  ..\n",
              "204  214      0     1      2  ...      0    0.635       0.271   1\n",
              "205  215      0     0      1  ...      0    0.666       0.089   0\n",
              "206  216      1     2      0  ...      1    0.244       0.268   0\n",
              "207  217      2     2      0  ...      0    0.245       0.058   0\n",
              "208  218      2     1      2  ...      1    0.343       0.099   0\n",
              "\n",
              "[209 rows x 10 columns]"
            ]
          },
          "metadata": {
            "tags": []
          },
          "execution_count": 28
        }
      ]
    },
    {
      "cell_type": "code",
      "metadata": {
        "colab": {
          "base_uri": "https://localhost:8080/",
          "height": 359
        },
        "id": "6oPPy2Z5Xf5L",
        "outputId": "b96781ac-8b9c-4a73-e66e-b0186ae30a8c"
      },
      "source": [
        "data.corr().sort_values(by = 'GB', ascending= False)"
      ],
      "execution_count": null,
      "outputs": [
        {
          "output_type": "execute_result",
          "data": {
            "text/html": [
              "<div>\n",
              "<style scoped>\n",
              "    .dataframe tbody tr th:only-of-type {\n",
              "        vertical-align: middle;\n",
              "    }\n",
              "\n",
              "    .dataframe tbody tr th {\n",
              "        vertical-align: top;\n",
              "    }\n",
              "\n",
              "    .dataframe thead th {\n",
              "        text-align: right;\n",
              "    }\n",
              "</style>\n",
              "<table border=\"1\" class=\"dataframe\">\n",
              "  <thead>\n",
              "    <tr style=\"text-align: right;\">\n",
              "      <th></th>\n",
              "      <th>Num</th>\n",
              "      <th>Color</th>\n",
              "      <th>Root</th>\n",
              "      <th>Sound</th>\n",
              "      <th>Texture</th>\n",
              "      <th>Belly_button</th>\n",
              "      <th>Touch</th>\n",
              "      <th>Density</th>\n",
              "      <th>sugar_rate</th>\n",
              "      <th>GB</th>\n",
              "    </tr>\n",
              "  </thead>\n",
              "  <tbody>\n",
              "    <tr>\n",
              "      <th>GB</th>\n",
              "      <td>-0.169716</td>\n",
              "      <td>-0.217918</td>\n",
              "      <td>-0.028115</td>\n",
              "      <td>0.299536</td>\n",
              "      <td>0.040850</td>\n",
              "      <td>0.355830</td>\n",
              "      <td>-0.167072</td>\n",
              "      <td>0.294923</td>\n",
              "      <td>0.439691</td>\n",
              "      <td>1.000000</td>\n",
              "    </tr>\n",
              "    <tr>\n",
              "      <th>sugar_rate</th>\n",
              "      <td>-0.017880</td>\n",
              "      <td>-0.472871</td>\n",
              "      <td>-0.053219</td>\n",
              "      <td>0.196644</td>\n",
              "      <td>-0.063852</td>\n",
              "      <td>0.334799</td>\n",
              "      <td>0.171507</td>\n",
              "      <td>0.159320</td>\n",
              "      <td>1.000000</td>\n",
              "      <td>0.439691</td>\n",
              "    </tr>\n",
              "    <tr>\n",
              "      <th>Belly_button</th>\n",
              "      <td>0.063112</td>\n",
              "      <td>0.260851</td>\n",
              "      <td>0.174617</td>\n",
              "      <td>0.063818</td>\n",
              "      <td>0.043171</td>\n",
              "      <td>1.000000</td>\n",
              "      <td>-0.444588</td>\n",
              "      <td>0.371337</td>\n",
              "      <td>0.334799</td>\n",
              "      <td>0.355830</td>\n",
              "    </tr>\n",
              "    <tr>\n",
              "      <th>Sound</th>\n",
              "      <td>-0.094284</td>\n",
              "      <td>-0.193492</td>\n",
              "      <td>-0.575758</td>\n",
              "      <td>1.000000</td>\n",
              "      <td>-0.005738</td>\n",
              "      <td>0.063818</td>\n",
              "      <td>0.042421</td>\n",
              "      <td>0.302486</td>\n",
              "      <td>0.196644</td>\n",
              "      <td>0.299536</td>\n",
              "    </tr>\n",
              "    <tr>\n",
              "      <th>Density</th>\n",
              "      <td>0.036008</td>\n",
              "      <td>-0.219253</td>\n",
              "      <td>-0.380027</td>\n",
              "      <td>0.302486</td>\n",
              "      <td>-0.524352</td>\n",
              "      <td>0.371337</td>\n",
              "      <td>-0.689016</td>\n",
              "      <td>1.000000</td>\n",
              "      <td>0.159320</td>\n",
              "      <td>0.294923</td>\n",
              "    </tr>\n",
              "    <tr>\n",
              "      <th>Texture</th>\n",
              "      <td>0.013344</td>\n",
              "      <td>0.359867</td>\n",
              "      <td>0.607026</td>\n",
              "      <td>-0.005738</td>\n",
              "      <td>1.000000</td>\n",
              "      <td>0.043171</td>\n",
              "      <td>0.190866</td>\n",
              "      <td>-0.524352</td>\n",
              "      <td>-0.063852</td>\n",
              "      <td>0.040850</td>\n",
              "    </tr>\n",
              "    <tr>\n",
              "      <th>Root</th>\n",
              "      <td>0.077841</td>\n",
              "      <td>0.336450</td>\n",
              "      <td>1.000000</td>\n",
              "      <td>-0.575758</td>\n",
              "      <td>0.607026</td>\n",
              "      <td>0.174617</td>\n",
              "      <td>0.010987</td>\n",
              "      <td>-0.380027</td>\n",
              "      <td>-0.053219</td>\n",
              "      <td>-0.028115</td>\n",
              "    </tr>\n",
              "    <tr>\n",
              "      <th>Touch</th>\n",
              "      <td>-0.047968</td>\n",
              "      <td>-0.123898</td>\n",
              "      <td>0.010987</td>\n",
              "      <td>0.042421</td>\n",
              "      <td>0.190866</td>\n",
              "      <td>-0.444588</td>\n",
              "      <td>1.000000</td>\n",
              "      <td>-0.689016</td>\n",
              "      <td>0.171507</td>\n",
              "      <td>-0.167072</td>\n",
              "    </tr>\n",
              "    <tr>\n",
              "      <th>Num</th>\n",
              "      <td>1.000000</td>\n",
              "      <td>0.044127</td>\n",
              "      <td>0.077841</td>\n",
              "      <td>-0.094284</td>\n",
              "      <td>0.013344</td>\n",
              "      <td>0.063112</td>\n",
              "      <td>-0.047968</td>\n",
              "      <td>0.036008</td>\n",
              "      <td>-0.017880</td>\n",
              "      <td>-0.169716</td>\n",
              "    </tr>\n",
              "    <tr>\n",
              "      <th>Color</th>\n",
              "      <td>0.044127</td>\n",
              "      <td>1.000000</td>\n",
              "      <td>0.336450</td>\n",
              "      <td>-0.193492</td>\n",
              "      <td>0.359867</td>\n",
              "      <td>0.260851</td>\n",
              "      <td>-0.123898</td>\n",
              "      <td>-0.219253</td>\n",
              "      <td>-0.472871</td>\n",
              "      <td>-0.217918</td>\n",
              "    </tr>\n",
              "  </tbody>\n",
              "</table>\n",
              "</div>"
            ],
            "text/plain": [
              "                   Num     Color      Root  ...   Density  sugar_rate        GB\n",
              "GB           -0.169716 -0.217918 -0.028115  ...  0.294923    0.439691  1.000000\n",
              "sugar_rate   -0.017880 -0.472871 -0.053219  ...  0.159320    1.000000  0.439691\n",
              "Belly_button  0.063112  0.260851  0.174617  ...  0.371337    0.334799  0.355830\n",
              "Sound        -0.094284 -0.193492 -0.575758  ...  0.302486    0.196644  0.299536\n",
              "Density       0.036008 -0.219253 -0.380027  ...  1.000000    0.159320  0.294923\n",
              "Texture       0.013344  0.359867  0.607026  ... -0.524352   -0.063852  0.040850\n",
              "Root          0.077841  0.336450  1.000000  ... -0.380027   -0.053219 -0.028115\n",
              "Touch        -0.047968 -0.123898  0.010987  ... -0.689016    0.171507 -0.167072\n",
              "Num           1.000000  0.044127  0.077841  ...  0.036008   -0.017880 -0.169716\n",
              "Color         0.044127  1.000000  0.336450  ... -0.219253   -0.472871 -0.217918\n",
              "\n",
              "[10 rows x 10 columns]"
            ]
          },
          "metadata": {
            "tags": []
          },
          "execution_count": 29
        }
      ]
    },
    {
      "cell_type": "markdown",
      "metadata": {
        "id": "uqI33vyHXvc6"
      },
      "source": [
        "If we were to use 0.1 as the threshold, we noticed that all the predictors are correlated with the outcome 'GB', except for 'Texture' and 'Root'. However, 0.1 is not significant enough for us to conclude the correlation. If we were to elevate our threshold to 0.3, we will noticed that only 'Belly_button' and 'sugar_rate' meets the threshold, we might not have a sufficient number of predictos to predict the dataset if we use such threshold. As the highest correlation is 0.439, we decide to use a threshold of 0.25 as the mid point that helps us to determinine which predictors are going to be sufficient to use as good predictors."
      ]
    },
    {
      "cell_type": "code",
      "metadata": {
        "colab": {
          "base_uri": "https://localhost:8080/",
          "height": 320
        },
        "id": "AV2pahYhTleW",
        "outputId": "18afd267-eed8-4148-cc3a-22a20c41117a"
      },
      "source": [
        "import statsmodels.formula.api as smf\n",
        "\n",
        "logistic1 = smf.logit(formula= 'GB ~ Belly_button + sugar_rate', data= data)\n",
        "fitted = logistic1.fit()\n",
        "fitted.summary()"
      ],
      "execution_count": null,
      "outputs": [
        {
          "output_type": "stream",
          "text": [
            "Optimization terminated successfully.\n",
            "         Current function value: 0.532341\n",
            "         Iterations 6\n"
          ],
          "name": "stdout"
        },
        {
          "output_type": "execute_result",
          "data": {
            "text/html": [
              "<table class=\"simpletable\">\n",
              "<caption>Logit Regression Results</caption>\n",
              "<tr>\n",
              "  <th>Dep. Variable:</th>          <td>GB</td>        <th>  No. Observations:  </th>  <td>   209</td>  \n",
              "</tr>\n",
              "<tr>\n",
              "  <th>Model:</th>                 <td>Logit</td>      <th>  Df Residuals:      </th>  <td>   206</td>  \n",
              "</tr>\n",
              "<tr>\n",
              "  <th>Method:</th>                 <td>MLE</td>       <th>  Df Model:          </th>  <td>     2</td>  \n",
              "</tr>\n",
              "<tr>\n",
              "  <th>Date:</th>            <td>Tue, 27 Jul 2021</td> <th>  Pseudo R-squ.:     </th>  <td>0.1972</td>  \n",
              "</tr>\n",
              "<tr>\n",
              "  <th>Time:</th>                <td>04:53:23</td>     <th>  Log-Likelihood:    </th> <td> -111.26</td> \n",
              "</tr>\n",
              "<tr>\n",
              "  <th>converged:</th>             <td>True</td>       <th>  LL-Null:           </th> <td> -138.58</td> \n",
              "</tr>\n",
              "<tr>\n",
              "  <th>Covariance Type:</th>     <td>nonrobust</td>    <th>  LLR p-value:       </th> <td>1.361e-12</td>\n",
              "</tr>\n",
              "</table>\n",
              "<table class=\"simpletable\">\n",
              "<tr>\n",
              "        <td></td>          <th>coef</th>     <th>std err</th>      <th>z</th>      <th>P>|z|</th>  <th>[0.025</th>    <th>0.975]</th>  \n",
              "</tr>\n",
              "<tr>\n",
              "  <th>Intercept</th>    <td>   -2.8927</td> <td>    0.426</td> <td>   -6.788</td> <td> 0.000</td> <td>   -3.728</td> <td>   -2.058</td>\n",
              "</tr>\n",
              "<tr>\n",
              "  <th>Belly_button</th> <td>    0.6816</td> <td>    0.198</td> <td>    3.437</td> <td> 0.001</td> <td>    0.293</td> <td>    1.070</td>\n",
              "</tr>\n",
              "<tr>\n",
              "  <th>sugar_rate</th>   <td>    7.0495</td> <td>    1.455</td> <td>    4.844</td> <td> 0.000</td> <td>    4.197</td> <td>    9.902</td>\n",
              "</tr>\n",
              "</table>"
            ],
            "text/plain": [
              "<class 'statsmodels.iolib.summary.Summary'>\n",
              "\"\"\"\n",
              "                           Logit Regression Results                           \n",
              "==============================================================================\n",
              "Dep. Variable:                     GB   No. Observations:                  209\n",
              "Model:                          Logit   Df Residuals:                      206\n",
              "Method:                           MLE   Df Model:                            2\n",
              "Date:                Tue, 27 Jul 2021   Pseudo R-squ.:                  0.1972\n",
              "Time:                        04:53:23   Log-Likelihood:                -111.26\n",
              "converged:                       True   LL-Null:                       -138.58\n",
              "Covariance Type:            nonrobust   LLR p-value:                 1.361e-12\n",
              "================================================================================\n",
              "                   coef    std err          z      P>|z|      [0.025      0.975]\n",
              "--------------------------------------------------------------------------------\n",
              "Intercept       -2.8927      0.426     -6.788      0.000      -3.728      -2.058\n",
              "Belly_button     0.6816      0.198      3.437      0.001       0.293       1.070\n",
              "sugar_rate       7.0495      1.455      4.844      0.000       4.197       9.902\n",
              "================================================================================\n",
              "\"\"\""
            ]
          },
          "metadata": {
            "tags": []
          },
          "execution_count": 45
        }
      ]
    },
    {
      "cell_type": "code",
      "metadata": {
        "colab": {
          "base_uri": "https://localhost:8080/",
          "height": 362
        },
        "id": "eGm2O7vAT5QX",
        "outputId": "0e8b96e7-1e06-4269-dc87-3d8b4d37c80c"
      },
      "source": [
        "import statsmodels.formula.api as smf\n",
        "\n",
        "logistic1 = smf.logit(formula= 'GB ~ Belly_button + sugar_rate + Sound + Density', data= data)\n",
        "fitted = logistic1.fit()\n",
        "fitted.summary()"
      ],
      "execution_count": null,
      "outputs": [
        {
          "output_type": "stream",
          "text": [
            "Optimization terminated successfully.\n",
            "         Current function value: 0.489081\n",
            "         Iterations 7\n"
          ],
          "name": "stdout"
        },
        {
          "output_type": "execute_result",
          "data": {
            "text/html": [
              "<table class=\"simpletable\">\n",
              "<caption>Logit Regression Results</caption>\n",
              "<tr>\n",
              "  <th>Dep. Variable:</th>          <td>GB</td>        <th>  No. Observations:  </th>  <td>   209</td>  \n",
              "</tr>\n",
              "<tr>\n",
              "  <th>Model:</th>                 <td>Logit</td>      <th>  Df Residuals:      </th>  <td>   204</td>  \n",
              "</tr>\n",
              "<tr>\n",
              "  <th>Method:</th>                 <td>MLE</td>       <th>  Df Model:          </th>  <td>     4</td>  \n",
              "</tr>\n",
              "<tr>\n",
              "  <th>Date:</th>            <td>Tue, 27 Jul 2021</td> <th>  Pseudo R-squ.:     </th>  <td>0.2624</td>  \n",
              "</tr>\n",
              "<tr>\n",
              "  <th>Time:</th>                <td>04:53:53</td>     <th>  Log-Likelihood:    </th> <td> -102.22</td> \n",
              "</tr>\n",
              "<tr>\n",
              "  <th>converged:</th>             <td>True</td>       <th>  LL-Null:           </th> <td> -138.58</td> \n",
              "</tr>\n",
              "<tr>\n",
              "  <th>Covariance Type:</th>     <td>nonrobust</td>    <th>  LLR p-value:       </th> <td>6.023e-15</td>\n",
              "</tr>\n",
              "</table>\n",
              "<table class=\"simpletable\">\n",
              "<tr>\n",
              "        <td></td>          <th>coef</th>     <th>std err</th>      <th>z</th>      <th>P>|z|</th>  <th>[0.025</th>    <th>0.975]</th>  \n",
              "</tr>\n",
              "<tr>\n",
              "  <th>Intercept</th>    <td>   -5.5367</td> <td>    1.061</td> <td>   -5.219</td> <td> 0.000</td> <td>   -7.616</td> <td>   -3.458</td>\n",
              "</tr>\n",
              "<tr>\n",
              "  <th>Belly_button</th> <td>    0.4552</td> <td>    0.242</td> <td>    1.878</td> <td> 0.060</td> <td>   -0.020</td> <td>    0.930</td>\n",
              "</tr>\n",
              "<tr>\n",
              "  <th>sugar_rate</th>   <td>    7.0043</td> <td>    1.548</td> <td>    4.524</td> <td> 0.000</td> <td>    3.970</td> <td>   10.039</td>\n",
              "</tr>\n",
              "<tr>\n",
              "  <th>Sound</th>        <td>    0.9892</td> <td>    0.314</td> <td>    3.148</td> <td> 0.002</td> <td>    0.373</td> <td>    1.605</td>\n",
              "</tr>\n",
              "<tr>\n",
              "  <th>Density</th>      <td>    2.6041</td> <td>    1.496</td> <td>    1.741</td> <td> 0.082</td> <td>   -0.327</td> <td>    5.536</td>\n",
              "</tr>\n",
              "</table>"
            ],
            "text/plain": [
              "<class 'statsmodels.iolib.summary.Summary'>\n",
              "\"\"\"\n",
              "                           Logit Regression Results                           \n",
              "==============================================================================\n",
              "Dep. Variable:                     GB   No. Observations:                  209\n",
              "Model:                          Logit   Df Residuals:                      204\n",
              "Method:                           MLE   Df Model:                            4\n",
              "Date:                Tue, 27 Jul 2021   Pseudo R-squ.:                  0.2624\n",
              "Time:                        04:53:53   Log-Likelihood:                -102.22\n",
              "converged:                       True   LL-Null:                       -138.58\n",
              "Covariance Type:            nonrobust   LLR p-value:                 6.023e-15\n",
              "================================================================================\n",
              "                   coef    std err          z      P>|z|      [0.025      0.975]\n",
              "--------------------------------------------------------------------------------\n",
              "Intercept       -5.5367      1.061     -5.219      0.000      -7.616      -3.458\n",
              "Belly_button     0.4552      0.242      1.878      0.060      -0.020       0.930\n",
              "sugar_rate       7.0043      1.548      4.524      0.000       3.970      10.039\n",
              "Sound            0.9892      0.314      3.148      0.002       0.373       1.605\n",
              "Density          2.6041      1.496      1.741      0.082      -0.327       5.536\n",
              "================================================================================\n",
              "\"\"\""
            ]
          },
          "metadata": {
            "tags": []
          },
          "execution_count": 46
        }
      ]
    },
    {
      "cell_type": "code",
      "metadata": {
        "colab": {
          "base_uri": "https://localhost:8080/",
          "height": 341
        },
        "id": "K0B-RRj_UBhz",
        "outputId": "b2cb1108-c6c7-4624-ac6c-09de32982473"
      },
      "source": [
        "import statsmodels.formula.api as smf\n",
        "\n",
        "logistic1 = smf.logit(formula= 'GB ~ Belly_button + sugar_rate + Sound', data= data)\n",
        "fitted = logistic1.fit()\n",
        "fitted.summary()"
      ],
      "execution_count": null,
      "outputs": [
        {
          "output_type": "stream",
          "text": [
            "Optimization terminated successfully.\n",
            "         Current function value: 0.496781\n",
            "         Iterations 6\n"
          ],
          "name": "stdout"
        },
        {
          "output_type": "execute_result",
          "data": {
            "text/html": [
              "<table class=\"simpletable\">\n",
              "<caption>Logit Regression Results</caption>\n",
              "<tr>\n",
              "  <th>Dep. Variable:</th>          <td>GB</td>        <th>  No. Observations:  </th>  <td>   209</td>  \n",
              "</tr>\n",
              "<tr>\n",
              "  <th>Model:</th>                 <td>Logit</td>      <th>  Df Residuals:      </th>  <td>   205</td>  \n",
              "</tr>\n",
              "<tr>\n",
              "  <th>Method:</th>                 <td>MLE</td>       <th>  Df Model:          </th>  <td>     3</td>  \n",
              "</tr>\n",
              "<tr>\n",
              "  <th>Date:</th>            <td>Tue, 27 Jul 2021</td> <th>  Pseudo R-squ.:     </th>  <td>0.2508</td>  \n",
              "</tr>\n",
              "<tr>\n",
              "  <th>Time:</th>                <td>04:54:51</td>     <th>  Log-Likelihood:    </th> <td> -103.83</td> \n",
              "</tr>\n",
              "<tr>\n",
              "  <th>converged:</th>             <td>True</td>       <th>  LL-Null:           </th> <td> -138.58</td> \n",
              "</tr>\n",
              "<tr>\n",
              "  <th>Covariance Type:</th>     <td>nonrobust</td>    <th>  LLR p-value:       </th> <td>5.436e-15</td>\n",
              "</tr>\n",
              "</table>\n",
              "<table class=\"simpletable\">\n",
              "<tr>\n",
              "        <td></td>          <th>coef</th>     <th>std err</th>      <th>z</th>      <th>P>|z|</th>  <th>[0.025</th>    <th>0.975]</th>  \n",
              "</tr>\n",
              "<tr>\n",
              "  <th>Intercept</th>    <td>   -4.3696</td> <td>    0.667</td> <td>   -6.548</td> <td> 0.000</td> <td>   -5.678</td> <td>   -3.062</td>\n",
              "</tr>\n",
              "<tr>\n",
              "  <th>Belly_button</th> <td>    0.7351</td> <td>    0.203</td> <td>    3.628</td> <td> 0.000</td> <td>    0.338</td> <td>    1.132</td>\n",
              "</tr>\n",
              "<tr>\n",
              "  <th>sugar_rate</th>   <td>    6.8302</td> <td>    1.511</td> <td>    4.519</td> <td> 0.000</td> <td>    3.868</td> <td>    9.793</td>\n",
              "</tr>\n",
              "<tr>\n",
              "  <th>Sound</th>        <td>    0.9797</td> <td>    0.279</td> <td>    3.508</td> <td> 0.000</td> <td>    0.432</td> <td>    1.527</td>\n",
              "</tr>\n",
              "</table>"
            ],
            "text/plain": [
              "<class 'statsmodels.iolib.summary.Summary'>\n",
              "\"\"\"\n",
              "                           Logit Regression Results                           \n",
              "==============================================================================\n",
              "Dep. Variable:                     GB   No. Observations:                  209\n",
              "Model:                          Logit   Df Residuals:                      205\n",
              "Method:                           MLE   Df Model:                            3\n",
              "Date:                Tue, 27 Jul 2021   Pseudo R-squ.:                  0.2508\n",
              "Time:                        04:54:51   Log-Likelihood:                -103.83\n",
              "converged:                       True   LL-Null:                       -138.58\n",
              "Covariance Type:            nonrobust   LLR p-value:                 5.436e-15\n",
              "================================================================================\n",
              "                   coef    std err          z      P>|z|      [0.025      0.975]\n",
              "--------------------------------------------------------------------------------\n",
              "Intercept       -4.3696      0.667     -6.548      0.000      -5.678      -3.062\n",
              "Belly_button     0.7351      0.203      3.628      0.000       0.338       1.132\n",
              "sugar_rate       6.8302      1.511      4.519      0.000       3.868       9.793\n",
              "Sound            0.9797      0.279      3.508      0.000       0.432       1.527\n",
              "================================================================================\n",
              "\"\"\""
            ]
          },
          "metadata": {
            "tags": []
          },
          "execution_count": 48
        }
      ]
    },
    {
      "cell_type": "code",
      "metadata": {
        "id": "axqz1BLmXepX"
      },
      "source": [
        "feature_cols = ['Sound', 'Belly_button', 'sugar_rate']\n",
        "X = data[feature_cols] # Features\n",
        "y = data.GB # Target variable\n",
        "# split X and y into training and testing sets\n",
        "X_train,X_test,y_train,y_test=train_test_split(X,y,test_size=0.3,random_state=2)"
      ],
      "execution_count": null,
      "outputs": []
    },
    {
      "cell_type": "code",
      "metadata": {
        "colab": {
          "base_uri": "https://localhost:8080/"
        },
        "id": "N8ztF6L6R04Z",
        "outputId": "30a412c2-1545-4240-eedb-67e0a5c3d263"
      },
      "source": [
        "# instantiate the model (using the default parameters)\n",
        "logreg = LogisticRegression()\n",
        "\n",
        "# fit the model with data\n",
        "logreg.fit(X_train,y_train)\n",
        "y_pred=logreg.predict(X_test)\n",
        "y_pred"
      ],
      "execution_count": null,
      "outputs": [
        {
          "output_type": "execute_result",
          "data": {
            "text/plain": [
              "array([1, 0, 0, 0, 0, 0, 0, 0, 0, 0, 0, 1, 0, 0, 0, 0, 0, 0, 0, 1, 0, 1,\n",
              "       0, 1, 0, 0, 0, 1, 0, 0, 0, 0, 0, 1, 0, 0, 1, 0, 1, 0, 1, 0, 0, 1,\n",
              "       1, 0, 0, 0, 0, 0, 0, 1, 0, 0, 0, 0, 0, 1, 0, 1, 0, 1, 1])"
            ]
          },
          "metadata": {
            "tags": []
          },
          "execution_count": 50
        }
      ]
    },
    {
      "cell_type": "code",
      "metadata": {
        "colab": {
          "base_uri": "https://localhost:8080/",
          "height": 342
        },
        "id": "bxCuaCEESBN0",
        "outputId": "e8136a6d-7fc2-41df-ce40-6350b9bfb18a"
      },
      "source": [
        "from sklearn import metrics\n",
        "cnf_matrix = metrics.confusion_matrix(y_test, y_pred)\n",
        "cnf_matrix\n",
        "\n",
        "# import required modules\n",
        "import seaborn as sns\n",
        "%matplotlib inline\n",
        "\n",
        "class_names=[0,1] # name  of classes\n",
        "fig, ax = plt.subplots()\n",
        "tick_marks = np.arange(len(class_names))\n",
        "plt.xticks(tick_marks, class_names)\n",
        "plt.yticks(tick_marks, class_names)\n",
        "# create heatmap\n",
        "sns.heatmap(pd.DataFrame(cnf_matrix), annot=True, cmap=\"YlGnBu\" ,fmt='g')\n",
        "ax.xaxis.set_label_position(\"top\")\n",
        "plt.tight_layout()\n",
        "plt.title('Confusion matrix', y=1.1)\n",
        "plt.ylabel('Actual label')\n",
        "plt.xlabel('Predicted label')\n"
      ],
      "execution_count": null,
      "outputs": [
        {
          "output_type": "execute_result",
          "data": {
            "text/plain": [
              "Text(0.5, 257.44, 'Predicted label')"
            ]
          },
          "metadata": {
            "tags": []
          },
          "execution_count": 51
        },
        {
          "output_type": "display_data",
          "data": {
            "image/png": "[encoded data removed]",
            "text/plain": [
              "<Figure size 432x288 with 2 Axes>"
            ]
          },
          "metadata": {
            "tags": [],
            "needs_background": "light"
          }
        }
      ]
    },
    {
      "cell_type": "code",
      "metadata": {
        "colab": {
          "base_uri": "https://localhost:8080/"
        },
        "id": "c_bH4PB-SW4R",
        "outputId": "278dd3a5-4327-4438-b13e-21a552763134"
      },
      "source": [
        "print(\"Accuracy:\",metrics.accuracy_score(y_test, y_pred))\n",
        "print(\"Precision:\",metrics.precision_score(y_test, y_pred))\n",
        "print(\"Recall:\",metrics.recall_score(y_test, y_pred))"
      ],
      "execution_count": null,
      "outputs": [
        {
          "output_type": "stream",
          "text": [
            "Accuracy: 0.7777777777777778\n",
            "Precision: 0.8823529411764706\n",
            "Recall: 0.5555555555555556\n"
          ],
          "name": "stdout"
        }
      ]
    },
    {
      "cell_type": "code",
      "metadata": {
        "colab": {
          "base_uri": "https://localhost:8080/",
          "height": 265
        },
        "id": "9nJ1NRnwSpjX",
        "outputId": "dbd9030f-2c05-4ff7-8eb0-4310442791a1"
      },
      "source": [
        "y_pred_proba = logreg.predict_proba(X_test)[::,1]\n",
        "fpr, tpr, _ = metrics.roc_curve(y_test,  y_pred_proba)\n",
        "auc = metrics.roc_auc_score(y_test, y_pred_proba)\n",
        "plt.plot(fpr,tpr,label=\"data 1, auc=\"+str(auc))\n",
        "plt.legend(loc=4)\n",
        "plt.show()"
      ],
      "execution_count": null,
      "outputs": [
        {
          "output_type": "display_data",
          "data": {
            "image/png": "[encoded data removed]",
            "text/plain": [
              "<Figure size 432x288 with 1 Axes>"
            ]
          },
          "metadata": {
            "tags": [],
            "needs_background": "light"
          }
        }
      ]
    },
    {
      "cell_type": "code",
      "metadata": {
        "colab": {
          "base_uri": "https://localhost:8080/"
        },
        "id": "CyvKPB_5S-ud",
        "outputId": "dfe29988-2339-40bf-c3f9-d7b2e0a4b36d"
      },
      "source": [
        "from sklearn.model_selection import cross_val_score\n",
        "\n",
        "scores = cross_val_score(logreg, X_train, y_train, cv=10)\n",
        "print('Cross-Validation Accuracy Scores', scores)"
      ],
      "execution_count": null,
      "outputs": [
        {
          "output_type": "stream",
          "text": [
            "Cross-Validation Accuracy Scores [0.73333333 0.8        0.93333333 0.66666667 0.73333333 0.66666667\n",
            " 0.85714286 0.5        0.64285714 0.64285714]\n"
          ],
          "name": "stdout"
        }
      ]
    },
    {
      "cell_type": "code",
      "metadata": {
        "colab": {
          "base_uri": "https://localhost:8080/"
        },
        "id": "pZO36kSSTESN",
        "outputId": "de6abf6a-48f7-4d43-bfaf-d87af1184457"
      },
      "source": [
        "scores = pd.Series(scores)\n",
        "scores.min(), scores.mean(), scores.max()"
      ],
      "execution_count": null,
      "outputs": [
        {
          "output_type": "execute_result",
          "data": {
            "text/plain": [
              "(0.5, 0.7176190476190476, 0.9333333333333333)"
            ]
          },
          "metadata": {
            "tags": []
          },
          "execution_count": 39
        }
      ]
    },
    {
      "cell_type": "markdown",
      "metadata": {
        "id": "BuaTBBkaTHZX"
      },
      "source": [
        "The range of the accuracy is between 0.50 to 0.93 but generally 0.72 on average"
      ]
    },
    {
      "cell_type": "code",
      "metadata": {
        "id": "qSFoP05dTIg-"
      },
      "source": [
        ""
      ],
      "execution_count": null,
      "outputs": []
    },
    {
      "cell_type": "code",
      "metadata": {
        "id": "ZTqmFhhQTFzK"
      },
      "source": [
        ""
      ],
      "execution_count": null,
      "outputs": []
    }
  ]
}