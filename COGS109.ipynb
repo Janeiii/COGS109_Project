{
  "nbformat": 4,
  "nbformat_minor": 0,
  "metadata": {
    "colab": {
      "name": "COGS109.ipynb",
      "provenance": [],
      "collapsed_sections": [],
      "authorship_tag": "ABX9TyPR1ZmfE7vULOFdNZdioG6s",
      "include_colab_link": true
    },
    "kernelspec": {
      "name": "python3",
      "display_name": "Python 3"
    },
    "language_info": {
      "name": "python"
    }
  },
  "cells": [
    {
      "cell_type": "markdown",
      "metadata": {
        "id": "view-in-github",
        "colab_type": "text"
      },
      "source": [
        "<a href=\"https://colab.research.google.com/github/Janeiii/COGS109_Project/blob/main/COGS109.ipynb\" target=\"_parent\"><img src=\"https://colab.research.google.com/assets/colab-badge.svg\" alt=\"Open In Colab\"/></a>"
      ]
    },
    {
      "cell_type": "code",
      "metadata": {
        "id": "IETYsxtgXGZ6"
      },
      "source": [
        "import pandas as pd\n",
        "import numpy as np\n",
        "import matplotlib.pyplot as plt\n",
        "from sklearn import preprocessing\n",
        "from sklearn.preprocessing import StandardScaler\n",
        "from sklearn.model_selection import train_test_split\n",
        "from sklearn.linear_model import LogisticRegression\n",
        "from sklearn.metrics import log_loss, roc_auc_score, recall_score, precision_score, average_precision_score, f1_score, classification_report, accuracy_score, plot_roc_curve, plot_precision_recall_curve, plot_confusion_matrix\n",
        "from sklearn.neighbors import KNeighborsClassifier\n"
      ],
      "execution_count": 1,
      "outputs": []
    },
    {
      "cell_type": "code",
      "metadata": {
        "colab": {
          "base_uri": "https://localhost:8080/",
          "height": 204
        },
        "id": "6lCNScMxXJNY",
        "outputId": "e2534e69-1287-4b5d-d47c-d9d7bb8ed395"
      },
      "source": [
        "#Loading dataset\n",
        "data = pd.read_csv('/content/watermelon_data.csv')\n",
        "#data = data.drop(columns = 'Num')\n",
        "data.head()"
      ],
      "execution_count": 2,
      "outputs": [
        {
          "output_type": "execute_result",
          "data": {
            "text/html": [
              "<div>\n",
              "<style scoped>\n",
              "    .dataframe tbody tr th:only-of-type {\n",
              "        vertical-align: middle;\n",
              "    }\n",
              "\n",
              "    .dataframe tbody tr th {\n",
              "        vertical-align: top;\n",
              "    }\n",
              "\n",
              "    .dataframe thead th {\n",
              "        text-align: right;\n",
              "    }\n",
              "</style>\n",
              "<table border=\"1\" class=\"dataframe\">\n",
              "  <thead>\n",
              "    <tr style=\"text-align: right;\">\n",
              "      <th></th>\n",
              "      <th>Num</th>\n",
              "      <th>Color</th>\n",
              "      <th>Root</th>\n",
              "      <th>Sound</th>\n",
              "      <th>Texture</th>\n",
              "      <th>Belly_button</th>\n",
              "      <th>Touch</th>\n",
              "      <th>Density</th>\n",
              "      <th>sugar_rate</th>\n",
              "      <th>GB</th>\n",
              "    </tr>\n",
              "  </thead>\n",
              "  <tbody>\n",
              "    <tr>\n",
              "      <th>0</th>\n",
              "      <td>1</td>\n",
              "      <td>Green</td>\n",
              "      <td>rolled up</td>\n",
              "      <td>turbid</td>\n",
              "      <td>clear</td>\n",
              "      <td>sunken</td>\n",
              "      <td>slippery</td>\n",
              "      <td>0.697</td>\n",
              "      <td>0.460</td>\n",
              "      <td>Yes</td>\n",
              "    </tr>\n",
              "    <tr>\n",
              "      <th>1</th>\n",
              "      <td>2</td>\n",
              "      <td>Dark</td>\n",
              "      <td>rolled up</td>\n",
              "      <td>low</td>\n",
              "      <td>clear</td>\n",
              "      <td>sunken</td>\n",
              "      <td>slippery</td>\n",
              "      <td>0.774</td>\n",
              "      <td>0.386</td>\n",
              "      <td>Yes</td>\n",
              "    </tr>\n",
              "    <tr>\n",
              "      <th>2</th>\n",
              "      <td>3</td>\n",
              "      <td>Dark</td>\n",
              "      <td>rolled up</td>\n",
              "      <td>turbid</td>\n",
              "      <td>clear</td>\n",
              "      <td>sunken</td>\n",
              "      <td>slippery</td>\n",
              "      <td>0.634</td>\n",
              "      <td>0.264</td>\n",
              "      <td>No</td>\n",
              "    </tr>\n",
              "    <tr>\n",
              "      <th>3</th>\n",
              "      <td>4</td>\n",
              "      <td>Green</td>\n",
              "      <td>rolled up</td>\n",
              "      <td>low</td>\n",
              "      <td>clear</td>\n",
              "      <td>sunken</td>\n",
              "      <td>slippery</td>\n",
              "      <td>0.608</td>\n",
              "      <td>0.318</td>\n",
              "      <td>Yes</td>\n",
              "    </tr>\n",
              "    <tr>\n",
              "      <th>4</th>\n",
              "      <td>5</td>\n",
              "      <td>light</td>\n",
              "      <td>rolled up</td>\n",
              "      <td>turbid</td>\n",
              "      <td>clear</td>\n",
              "      <td>sunken</td>\n",
              "      <td>slippery</td>\n",
              "      <td>0.556</td>\n",
              "      <td>0.215</td>\n",
              "      <td>Yes</td>\n",
              "    </tr>\n",
              "  </tbody>\n",
              "</table>\n",
              "</div>"
            ],
            "text/plain": [
              "   Num  Color       Root   Sound  ...     Touch Density sugar_rate   GB\n",
              "0    1  Green  rolled up  turbid  ...  slippery   0.697      0.460  Yes\n",
              "1    2   Dark  rolled up     low  ...  slippery   0.774      0.386  Yes\n",
              "2    3   Dark  rolled up  turbid  ...  slippery   0.634      0.264   No\n",
              "3    4  Green  rolled up     low  ...  slippery   0.608      0.318  Yes\n",
              "4    5  light  rolled up  turbid  ...  slippery   0.556      0.215  Yes\n",
              "\n",
              "[5 rows x 10 columns]"
            ]
          },
          "metadata": {
            "tags": []
          },
          "execution_count": 2
        }
      ]
    },
    {
      "cell_type": "code",
      "metadata": {
        "colab": {
          "base_uri": "https://localhost:8080/"
        },
        "id": "DWqX3jcjXN0U",
        "outputId": "eb4e5553-4156-49b4-8448-26f201e3d7eb"
      },
      "source": [
        "data.info()\n",
        "\n",
        "print(\"Column items in the dataset:\")\n",
        "print(data.columns.values)\n",
        "\n",
        "print(\"Categorical columns:\")\n",
        "cat_cols = data.select_dtypes(include = 'object').columns.values\n",
        "print(cat_cols)\n",
        "\n",
        "print(\"Numerical columns:\")\n",
        "numeric_cols = data.select_dtypes(include = np.number).columns.values\n",
        "print(numeric_cols)\n"
      ],
      "execution_count": 3,
      "outputs": [
        {
          "output_type": "stream",
          "text": [
            "<class 'pandas.core.frame.DataFrame'>\n",
            "RangeIndex: 209 entries, 0 to 208\n",
            "Data columns (total 10 columns):\n",
            " #   Column        Non-Null Count  Dtype  \n",
            "---  ------        --------------  -----  \n",
            " 0   Num           209 non-null    int64  \n",
            " 1   Color         209 non-null    object \n",
            " 2   Root          209 non-null    object \n",
            " 3   Sound         209 non-null    object \n",
            " 4   Texture       209 non-null    object \n",
            " 5   Belly_button  209 non-null    object \n",
            " 6   Touch         209 non-null    object \n",
            " 7   Density       209 non-null    float64\n",
            " 8   sugar_rate    209 non-null    float64\n",
            " 9   GB            209 non-null    object \n",
            "dtypes: float64(2), int64(1), object(7)\n",
            "memory usage: 16.5+ KB\n",
            "Column items in the dataset:\n",
            "['Num' 'Color' 'Root' 'Sound' 'Texture' 'Belly_button' 'Touch' 'Density'\n",
            " 'sugar_rate' 'GB']\n",
            "Categorical columns:\n",
            "['Color' 'Root' 'Sound' 'Texture' 'Belly_button' 'Touch' 'GB']\n",
            "Numerical columns:\n",
            "['Num' 'Density' 'sugar_rate']\n"
          ],
          "name": "stdout"
        }
      ]
    },
    {
      "cell_type": "code",
      "metadata": {
        "colab": {
          "base_uri": "https://localhost:8080/",
          "height": 419
        },
        "id": "Mo_AzQPQXYHz",
        "outputId": "7796efe2-b4f9-4753-a7b2-2627bb1cd1fa"
      },
      "source": [
        "#Import label encoder\n",
        "  \n",
        "#label_encoder object knows how to understand word labels\n",
        "label_encoder = preprocessing.LabelEncoder()\n",
        "  \n",
        "#Encode labels in column Sex and Embarked\n",
        "data['Color']= label_encoder.fit_transform(data['Color'])\n",
        "data['Root']=label_encoder.fit_transform(data['Root'])\n",
        "data['Sound']=label_encoder.fit_transform(data['Sound'])\n",
        "data['Texture']=label_encoder.fit_transform(data['Texture'])\n",
        "data['Touch']=label_encoder.fit_transform(data['Touch'])\n",
        "data['Belly_button']=label_encoder.fit_transform(data['Belly_button'])\n",
        "data['GB'] = label_encoder.fit_transform(data['GB'])\n",
        "\n",
        "data"
      ],
      "execution_count": 4,
      "outputs": [
        {
          "output_type": "execute_result",
          "data": {
            "text/html": [
              "<div>\n",
              "<style scoped>\n",
              "    .dataframe tbody tr th:only-of-type {\n",
              "        vertical-align: middle;\n",
              "    }\n",
              "\n",
              "    .dataframe tbody tr th {\n",
              "        vertical-align: top;\n",
              "    }\n",
              "\n",
              "    .dataframe thead th {\n",
              "        text-align: right;\n",
              "    }\n",
              "</style>\n",
              "<table border=\"1\" class=\"dataframe\">\n",
              "  <thead>\n",
              "    <tr style=\"text-align: right;\">\n",
              "      <th></th>\n",
              "      <th>Num</th>\n",
              "      <th>Color</th>\n",
              "      <th>Root</th>\n",
              "      <th>Sound</th>\n",
              "      <th>Texture</th>\n",
              "      <th>Belly_button</th>\n",
              "      <th>Touch</th>\n",
              "      <th>Density</th>\n",
              "      <th>sugar_rate</th>\n",
              "      <th>GB</th>\n",
              "    </tr>\n",
              "  </thead>\n",
              "  <tbody>\n",
              "    <tr>\n",
              "      <th>0</th>\n",
              "      <td>1</td>\n",
              "      <td>1</td>\n",
              "      <td>1</td>\n",
              "      <td>2</td>\n",
              "      <td>1</td>\n",
              "      <td>2</td>\n",
              "      <td>0</td>\n",
              "      <td>0.697</td>\n",
              "      <td>0.460</td>\n",
              "      <td>1</td>\n",
              "    </tr>\n",
              "    <tr>\n",
              "      <th>1</th>\n",
              "      <td>2</td>\n",
              "      <td>0</td>\n",
              "      <td>1</td>\n",
              "      <td>1</td>\n",
              "      <td>1</td>\n",
              "      <td>2</td>\n",
              "      <td>0</td>\n",
              "      <td>0.774</td>\n",
              "      <td>0.386</td>\n",
              "      <td>1</td>\n",
              "    </tr>\n",
              "    <tr>\n",
              "      <th>2</th>\n",
              "      <td>3</td>\n",
              "      <td>0</td>\n",
              "      <td>1</td>\n",
              "      <td>2</td>\n",
              "      <td>1</td>\n",
              "      <td>2</td>\n",
              "      <td>0</td>\n",
              "      <td>0.634</td>\n",
              "      <td>0.264</td>\n",
              "      <td>0</td>\n",
              "    </tr>\n",
              "    <tr>\n",
              "      <th>3</th>\n",
              "      <td>4</td>\n",
              "      <td>1</td>\n",
              "      <td>1</td>\n",
              "      <td>1</td>\n",
              "      <td>1</td>\n",
              "      <td>2</td>\n",
              "      <td>0</td>\n",
              "      <td>0.608</td>\n",
              "      <td>0.318</td>\n",
              "      <td>1</td>\n",
              "    </tr>\n",
              "    <tr>\n",
              "      <th>4</th>\n",
              "      <td>5</td>\n",
              "      <td>2</td>\n",
              "      <td>1</td>\n",
              "      <td>2</td>\n",
              "      <td>1</td>\n",
              "      <td>2</td>\n",
              "      <td>0</td>\n",
              "      <td>0.556</td>\n",
              "      <td>0.215</td>\n",
              "      <td>1</td>\n",
              "    </tr>\n",
              "    <tr>\n",
              "      <th>...</th>\n",
              "      <td>...</td>\n",
              "      <td>...</td>\n",
              "      <td>...</td>\n",
              "      <td>...</td>\n",
              "      <td>...</td>\n",
              "      <td>...</td>\n",
              "      <td>...</td>\n",
              "      <td>...</td>\n",
              "      <td>...</td>\n",
              "      <td>...</td>\n",
              "    </tr>\n",
              "    <tr>\n",
              "      <th>204</th>\n",
              "      <td>214</td>\n",
              "      <td>0</td>\n",
              "      <td>1</td>\n",
              "      <td>2</td>\n",
              "      <td>1</td>\n",
              "      <td>2</td>\n",
              "      <td>0</td>\n",
              "      <td>0.635</td>\n",
              "      <td>0.271</td>\n",
              "      <td>1</td>\n",
              "    </tr>\n",
              "    <tr>\n",
              "      <th>205</th>\n",
              "      <td>215</td>\n",
              "      <td>0</td>\n",
              "      <td>0</td>\n",
              "      <td>1</td>\n",
              "      <td>0</td>\n",
              "      <td>0</td>\n",
              "      <td>0</td>\n",
              "      <td>0.666</td>\n",
              "      <td>0.089</td>\n",
              "      <td>0</td>\n",
              "    </tr>\n",
              "    <tr>\n",
              "      <th>206</th>\n",
              "      <td>216</td>\n",
              "      <td>1</td>\n",
              "      <td>2</td>\n",
              "      <td>0</td>\n",
              "      <td>1</td>\n",
              "      <td>1</td>\n",
              "      <td>1</td>\n",
              "      <td>0.244</td>\n",
              "      <td>0.268</td>\n",
              "      <td>0</td>\n",
              "    </tr>\n",
              "    <tr>\n",
              "      <th>207</th>\n",
              "      <td>217</td>\n",
              "      <td>2</td>\n",
              "      <td>2</td>\n",
              "      <td>0</td>\n",
              "      <td>2</td>\n",
              "      <td>1</td>\n",
              "      <td>0</td>\n",
              "      <td>0.245</td>\n",
              "      <td>0.058</td>\n",
              "      <td>0</td>\n",
              "    </tr>\n",
              "    <tr>\n",
              "      <th>208</th>\n",
              "      <td>218</td>\n",
              "      <td>2</td>\n",
              "      <td>1</td>\n",
              "      <td>2</td>\n",
              "      <td>2</td>\n",
              "      <td>1</td>\n",
              "      <td>1</td>\n",
              "      <td>0.343</td>\n",
              "      <td>0.099</td>\n",
              "      <td>0</td>\n",
              "    </tr>\n",
              "  </tbody>\n",
              "</table>\n",
              "<p>209 rows × 10 columns</p>\n",
              "</div>"
            ],
            "text/plain": [
              "     Num  Color  Root  Sound  ...  Touch  Density  sugar_rate  GB\n",
              "0      1      1     1      2  ...      0    0.697       0.460   1\n",
              "1      2      0     1      1  ...      0    0.774       0.386   1\n",
              "2      3      0     1      2  ...      0    0.634       0.264   0\n",
              "3      4      1     1      1  ...      0    0.608       0.318   1\n",
              "4      5      2     1      2  ...      0    0.556       0.215   1\n",
              "..   ...    ...   ...    ...  ...    ...      ...         ...  ..\n",
              "204  214      0     1      2  ...      0    0.635       0.271   1\n",
              "205  215      0     0      1  ...      0    0.666       0.089   0\n",
              "206  216      1     2      0  ...      1    0.244       0.268   0\n",
              "207  217      2     2      0  ...      0    0.245       0.058   0\n",
              "208  218      2     1      2  ...      1    0.343       0.099   0\n",
              "\n",
              "[209 rows x 10 columns]"
            ]
          },
          "metadata": {
            "tags": []
          },
          "execution_count": 4
        }
      ]
    },
    {
      "cell_type": "code",
      "metadata": {
        "colab": {
          "base_uri": "https://localhost:8080/",
          "height": 359
        },
        "id": "6oPPy2Z5Xf5L",
        "outputId": "b329ff42-5baa-4596-82d1-7ee77916ca46"
      },
      "source": [
        "data.corr().sort_values(by = 'GB', ascending= False)"
      ],
      "execution_count": 5,
      "outputs": [
        {
          "output_type": "execute_result",
          "data": {
            "text/html": [
              "<div>\n",
              "<style scoped>\n",
              "    .dataframe tbody tr th:only-of-type {\n",
              "        vertical-align: middle;\n",
              "    }\n",
              "\n",
              "    .dataframe tbody tr th {\n",
              "        vertical-align: top;\n",
              "    }\n",
              "\n",
              "    .dataframe thead th {\n",
              "        text-align: right;\n",
              "    }\n",
              "</style>\n",
              "<table border=\"1\" class=\"dataframe\">\n",
              "  <thead>\n",
              "    <tr style=\"text-align: right;\">\n",
              "      <th></th>\n",
              "      <th>Num</th>\n",
              "      <th>Color</th>\n",
              "      <th>Root</th>\n",
              "      <th>Sound</th>\n",
              "      <th>Texture</th>\n",
              "      <th>Belly_button</th>\n",
              "      <th>Touch</th>\n",
              "      <th>Density</th>\n",
              "      <th>sugar_rate</th>\n",
              "      <th>GB</th>\n",
              "    </tr>\n",
              "  </thead>\n",
              "  <tbody>\n",
              "    <tr>\n",
              "      <th>GB</th>\n",
              "      <td>-0.169716</td>\n",
              "      <td>-0.217918</td>\n",
              "      <td>-0.028115</td>\n",
              "      <td>0.299536</td>\n",
              "      <td>0.040850</td>\n",
              "      <td>0.355830</td>\n",
              "      <td>-0.167072</td>\n",
              "      <td>0.294923</td>\n",
              "      <td>0.439691</td>\n",
              "      <td>1.000000</td>\n",
              "    </tr>\n",
              "    <tr>\n",
              "      <th>sugar_rate</th>\n",
              "      <td>-0.017880</td>\n",
              "      <td>-0.472871</td>\n",
              "      <td>-0.053219</td>\n",
              "      <td>0.196644</td>\n",
              "      <td>-0.063852</td>\n",
              "      <td>0.334799</td>\n",
              "      <td>0.171507</td>\n",
              "      <td>0.159320</td>\n",
              "      <td>1.000000</td>\n",
              "      <td>0.439691</td>\n",
              "    </tr>\n",
              "    <tr>\n",
              "      <th>Belly_button</th>\n",
              "      <td>0.063112</td>\n",
              "      <td>0.260851</td>\n",
              "      <td>0.174617</td>\n",
              "      <td>0.063818</td>\n",
              "      <td>0.043171</td>\n",
              "      <td>1.000000</td>\n",
              "      <td>-0.444588</td>\n",
              "      <td>0.371337</td>\n",
              "      <td>0.334799</td>\n",
              "      <td>0.355830</td>\n",
              "    </tr>\n",
              "    <tr>\n",
              "      <th>Sound</th>\n",
              "      <td>-0.094284</td>\n",
              "      <td>-0.193492</td>\n",
              "      <td>-0.575758</td>\n",
              "      <td>1.000000</td>\n",
              "      <td>-0.005738</td>\n",
              "      <td>0.063818</td>\n",
              "      <td>0.042421</td>\n",
              "      <td>0.302486</td>\n",
              "      <td>0.196644</td>\n",
              "      <td>0.299536</td>\n",
              "    </tr>\n",
              "    <tr>\n",
              "      <th>Density</th>\n",
              "      <td>0.036008</td>\n",
              "      <td>-0.219253</td>\n",
              "      <td>-0.380027</td>\n",
              "      <td>0.302486</td>\n",
              "      <td>-0.524352</td>\n",
              "      <td>0.371337</td>\n",
              "      <td>-0.689016</td>\n",
              "      <td>1.000000</td>\n",
              "      <td>0.159320</td>\n",
              "      <td>0.294923</td>\n",
              "    </tr>\n",
              "    <tr>\n",
              "      <th>Texture</th>\n",
              "      <td>0.013344</td>\n",
              "      <td>0.359867</td>\n",
              "      <td>0.607026</td>\n",
              "      <td>-0.005738</td>\n",
              "      <td>1.000000</td>\n",
              "      <td>0.043171</td>\n",
              "      <td>0.190866</td>\n",
              "      <td>-0.524352</td>\n",
              "      <td>-0.063852</td>\n",
              "      <td>0.040850</td>\n",
              "    </tr>\n",
              "    <tr>\n",
              "      <th>Root</th>\n",
              "      <td>0.077841</td>\n",
              "      <td>0.336450</td>\n",
              "      <td>1.000000</td>\n",
              "      <td>-0.575758</td>\n",
              "      <td>0.607026</td>\n",
              "      <td>0.174617</td>\n",
              "      <td>0.010987</td>\n",
              "      <td>-0.380027</td>\n",
              "      <td>-0.053219</td>\n",
              "      <td>-0.028115</td>\n",
              "    </tr>\n",
              "    <tr>\n",
              "      <th>Touch</th>\n",
              "      <td>-0.047968</td>\n",
              "      <td>-0.123898</td>\n",
              "      <td>0.010987</td>\n",
              "      <td>0.042421</td>\n",
              "      <td>0.190866</td>\n",
              "      <td>-0.444588</td>\n",
              "      <td>1.000000</td>\n",
              "      <td>-0.689016</td>\n",
              "      <td>0.171507</td>\n",
              "      <td>-0.167072</td>\n",
              "    </tr>\n",
              "    <tr>\n",
              "      <th>Num</th>\n",
              "      <td>1.000000</td>\n",
              "      <td>0.044127</td>\n",
              "      <td>0.077841</td>\n",
              "      <td>-0.094284</td>\n",
              "      <td>0.013344</td>\n",
              "      <td>0.063112</td>\n",
              "      <td>-0.047968</td>\n",
              "      <td>0.036008</td>\n",
              "      <td>-0.017880</td>\n",
              "      <td>-0.169716</td>\n",
              "    </tr>\n",
              "    <tr>\n",
              "      <th>Color</th>\n",
              "      <td>0.044127</td>\n",
              "      <td>1.000000</td>\n",
              "      <td>0.336450</td>\n",
              "      <td>-0.193492</td>\n",
              "      <td>0.359867</td>\n",
              "      <td>0.260851</td>\n",
              "      <td>-0.123898</td>\n",
              "      <td>-0.219253</td>\n",
              "      <td>-0.472871</td>\n",
              "      <td>-0.217918</td>\n",
              "    </tr>\n",
              "  </tbody>\n",
              "</table>\n",
              "</div>"
            ],
            "text/plain": [
              "                   Num     Color      Root  ...   Density  sugar_rate        GB\n",
              "GB           -0.169716 -0.217918 -0.028115  ...  0.294923    0.439691  1.000000\n",
              "sugar_rate   -0.017880 -0.472871 -0.053219  ...  0.159320    1.000000  0.439691\n",
              "Belly_button  0.063112  0.260851  0.174617  ...  0.371337    0.334799  0.355830\n",
              "Sound        -0.094284 -0.193492 -0.575758  ...  0.302486    0.196644  0.299536\n",
              "Density       0.036008 -0.219253 -0.380027  ...  1.000000    0.159320  0.294923\n",
              "Texture       0.013344  0.359867  0.607026  ... -0.524352   -0.063852  0.040850\n",
              "Root          0.077841  0.336450  1.000000  ... -0.380027   -0.053219 -0.028115\n",
              "Touch        -0.047968 -0.123898  0.010987  ... -0.689016    0.171507 -0.167072\n",
              "Num           1.000000  0.044127  0.077841  ...  0.036008   -0.017880 -0.169716\n",
              "Color         0.044127  1.000000  0.336450  ... -0.219253   -0.472871 -0.217918\n",
              "\n",
              "[10 rows x 10 columns]"
            ]
          },
          "metadata": {
            "tags": []
          },
          "execution_count": 5
        }
      ]
    },
    {
      "cell_type": "markdown",
      "metadata": {
        "id": "uqI33vyHXvc6"
      },
      "source": [
        "If we were to use 0.1 as the threshold, we noticed that all the predictors are correlated with the outcome 'GB', except for 'Texture' and 'Root'. However, 0.1 is not significant enough for us to conclude the correlation. If we were to elevate our threshold to 0.3, we will noticed that only 'Belly_button' and 'sugar_rate' meets the threshold, we might not have a sufficient number of predictos to predict the dataset if we use such threshold. As the highest correlation is 0.439, we decide to use a threshold of 0.25 as the mid point that helps us to determinine which predictors are going to be sufficient to use as good predictors."
      ]
    },
    {
      "cell_type": "markdown",
      "metadata": {
        "id": "9oH68jlziirc"
      },
      "source": [
        "LOGISTIC"
      ]
    },
    {
      "cell_type": "code",
      "metadata": {
        "colab": {
          "base_uri": "https://localhost:8080/",
          "height": 396
        },
        "id": "eGm2O7vAT5QX",
        "outputId": "440ff503-8ebf-4c56-c42a-f89934515314"
      },
      "source": [
        "import statsmodels.formula.api as smf\n",
        "\n",
        "logistic1 = smf.logit(formula= 'GB ~ Belly_button + sugar_rate + Sound + Density', data= data)\n",
        "fitted = logistic1.fit()\n",
        "fitted.summary()"
      ],
      "execution_count": 6,
      "outputs": [
        {
          "output_type": "stream",
          "text": [
            "Optimization terminated successfully.\n",
            "         Current function value: 0.489081\n",
            "         Iterations 7\n"
          ],
          "name": "stdout"
        },
        {
          "output_type": "stream",
          "text": [
            "/usr/local/lib/python3.7/dist-packages/statsmodels/tools/_testing.py:19: FutureWarning: pandas.util.testing is deprecated. Use the functions in the public API at pandas.testing instead.\n",
            "  import pandas.util.testing as tm\n"
          ],
          "name": "stderr"
        },
        {
          "output_type": "execute_result",
          "data": {
            "text/html": [
              "<table class=\"simpletable\">\n",
              "<caption>Logit Regression Results</caption>\n",
              "<tr>\n",
              "  <th>Dep. Variable:</th>          <td>GB</td>        <th>  No. Observations:  </th>  <td>   209</td>  \n",
              "</tr>\n",
              "<tr>\n",
              "  <th>Model:</th>                 <td>Logit</td>      <th>  Df Residuals:      </th>  <td>   204</td>  \n",
              "</tr>\n",
              "<tr>\n",
              "  <th>Method:</th>                 <td>MLE</td>       <th>  Df Model:          </th>  <td>     4</td>  \n",
              "</tr>\n",
              "<tr>\n",
              "  <th>Date:</th>            <td>Tue, 27 Jul 2021</td> <th>  Pseudo R-squ.:     </th>  <td>0.2624</td>  \n",
              "</tr>\n",
              "<tr>\n",
              "  <th>Time:</th>                <td>06:02:54</td>     <th>  Log-Likelihood:    </th> <td> -102.22</td> \n",
              "</tr>\n",
              "<tr>\n",
              "  <th>converged:</th>             <td>True</td>       <th>  LL-Null:           </th> <td> -138.58</td> \n",
              "</tr>\n",
              "<tr>\n",
              "  <th>Covariance Type:</th>     <td>nonrobust</td>    <th>  LLR p-value:       </th> <td>6.023e-15</td>\n",
              "</tr>\n",
              "</table>\n",
              "<table class=\"simpletable\">\n",
              "<tr>\n",
              "        <td></td>          <th>coef</th>     <th>std err</th>      <th>z</th>      <th>P>|z|</th>  <th>[0.025</th>    <th>0.975]</th>  \n",
              "</tr>\n",
              "<tr>\n",
              "  <th>Intercept</th>    <td>   -5.5367</td> <td>    1.061</td> <td>   -5.219</td> <td> 0.000</td> <td>   -7.616</td> <td>   -3.458</td>\n",
              "</tr>\n",
              "<tr>\n",
              "  <th>Belly_button</th> <td>    0.4552</td> <td>    0.242</td> <td>    1.878</td> <td> 0.060</td> <td>   -0.020</td> <td>    0.930</td>\n",
              "</tr>\n",
              "<tr>\n",
              "  <th>sugar_rate</th>   <td>    7.0043</td> <td>    1.548</td> <td>    4.524</td> <td> 0.000</td> <td>    3.970</td> <td>   10.039</td>\n",
              "</tr>\n",
              "<tr>\n",
              "  <th>Sound</th>        <td>    0.9892</td> <td>    0.314</td> <td>    3.148</td> <td> 0.002</td> <td>    0.373</td> <td>    1.605</td>\n",
              "</tr>\n",
              "<tr>\n",
              "  <th>Density</th>      <td>    2.6041</td> <td>    1.496</td> <td>    1.741</td> <td> 0.082</td> <td>   -0.327</td> <td>    5.536</td>\n",
              "</tr>\n",
              "</table>"
            ],
            "text/plain": [
              "<class 'statsmodels.iolib.summary.Summary'>\n",
              "\"\"\"\n",
              "                           Logit Regression Results                           \n",
              "==============================================================================\n",
              "Dep. Variable:                     GB   No. Observations:                  209\n",
              "Model:                          Logit   Df Residuals:                      204\n",
              "Method:                           MLE   Df Model:                            4\n",
              "Date:                Tue, 27 Jul 2021   Pseudo R-squ.:                  0.2624\n",
              "Time:                        06:02:54   Log-Likelihood:                -102.22\n",
              "converged:                       True   LL-Null:                       -138.58\n",
              "Covariance Type:            nonrobust   LLR p-value:                 6.023e-15\n",
              "================================================================================\n",
              "                   coef    std err          z      P>|z|      [0.025      0.975]\n",
              "--------------------------------------------------------------------------------\n",
              "Intercept       -5.5367      1.061     -5.219      0.000      -7.616      -3.458\n",
              "Belly_button     0.4552      0.242      1.878      0.060      -0.020       0.930\n",
              "sugar_rate       7.0043      1.548      4.524      0.000       3.970      10.039\n",
              "Sound            0.9892      0.314      3.148      0.002       0.373       1.605\n",
              "Density          2.6041      1.496      1.741      0.082      -0.327       5.536\n",
              "================================================================================\n",
              "\"\"\""
            ]
          },
          "metadata": {
            "tags": []
          },
          "execution_count": 6
        }
      ]
    },
    {
      "cell_type": "code",
      "metadata": {
        "colab": {
          "base_uri": "https://localhost:8080/",
          "height": 320
        },
        "id": "K0B-RRj_UBhz",
        "outputId": "cb60e3d0-1d41-49b0-fc9d-5cb8e06973eb"
      },
      "source": [
        "import statsmodels.formula.api as smf\n",
        "\n",
        "logistic1 = smf.logit(formula= 'GB ~ sugar_rate + Sound', data= data)\n",
        "fitted = logistic1.fit()\n",
        "fitted.summary()"
      ],
      "execution_count": 7,
      "outputs": [
        {
          "output_type": "stream",
          "text": [
            "Optimization terminated successfully.\n",
            "         Current function value: 0.529724\n",
            "         Iterations 6\n"
          ],
          "name": "stdout"
        },
        {
          "output_type": "execute_result",
          "data": {
            "text/html": [
              "<table class=\"simpletable\">\n",
              "<caption>Logit Regression Results</caption>\n",
              "<tr>\n",
              "  <th>Dep. Variable:</th>          <td>GB</td>        <th>  No. Observations:  </th>  <td>   209</td>  \n",
              "</tr>\n",
              "<tr>\n",
              "  <th>Model:</th>                 <td>Logit</td>      <th>  Df Residuals:      </th>  <td>   206</td>  \n",
              "</tr>\n",
              "<tr>\n",
              "  <th>Method:</th>                 <td>MLE</td>       <th>  Df Model:          </th>  <td>     2</td>  \n",
              "</tr>\n",
              "<tr>\n",
              "  <th>Date:</th>            <td>Tue, 27 Jul 2021</td> <th>  Pseudo R-squ.:     </th>  <td>0.2011</td>  \n",
              "</tr>\n",
              "<tr>\n",
              "  <th>Time:</th>                <td>06:02:54</td>     <th>  Log-Likelihood:    </th> <td> -110.71</td> \n",
              "</tr>\n",
              "<tr>\n",
              "  <th>converged:</th>             <td>True</td>       <th>  LL-Null:           </th> <td> -138.58</td> \n",
              "</tr>\n",
              "<tr>\n",
              "  <th>Covariance Type:</th>     <td>nonrobust</td>    <th>  LLR p-value:       </th> <td>7.876e-13</td>\n",
              "</tr>\n",
              "</table>\n",
              "<table class=\"simpletable\">\n",
              "<tr>\n",
              "       <td></td>         <th>coef</th>     <th>std err</th>      <th>z</th>      <th>P>|z|</th>  <th>[0.025</th>    <th>0.975]</th>  \n",
              "</tr>\n",
              "<tr>\n",
              "  <th>Intercept</th>  <td>   -3.5237</td> <td>    0.546</td> <td>   -6.454</td> <td> 0.000</td> <td>   -4.594</td> <td>   -2.454</td>\n",
              "</tr>\n",
              "<tr>\n",
              "  <th>sugar_rate</th> <td>    7.7485</td> <td>    1.435</td> <td>    5.400</td> <td> 0.000</td> <td>    4.936</td> <td>   10.561</td>\n",
              "</tr>\n",
              "<tr>\n",
              "  <th>Sound</th>      <td>    0.8867</td> <td>    0.258</td> <td>    3.439</td> <td> 0.001</td> <td>    0.381</td> <td>    1.392</td>\n",
              "</tr>\n",
              "</table>"
            ],
            "text/plain": [
              "<class 'statsmodels.iolib.summary.Summary'>\n",
              "\"\"\"\n",
              "                           Logit Regression Results                           \n",
              "==============================================================================\n",
              "Dep. Variable:                     GB   No. Observations:                  209\n",
              "Model:                          Logit   Df Residuals:                      206\n",
              "Method:                           MLE   Df Model:                            2\n",
              "Date:                Tue, 27 Jul 2021   Pseudo R-squ.:                  0.2011\n",
              "Time:                        06:02:54   Log-Likelihood:                -110.71\n",
              "converged:                       True   LL-Null:                       -138.58\n",
              "Covariance Type:            nonrobust   LLR p-value:                 7.876e-13\n",
              "==============================================================================\n",
              "                 coef    std err          z      P>|z|      [0.025      0.975]\n",
              "------------------------------------------------------------------------------\n",
              "Intercept     -3.5237      0.546     -6.454      0.000      -4.594      -2.454\n",
              "sugar_rate     7.7485      1.435      5.400      0.000       4.936      10.561\n",
              "Sound          0.8867      0.258      3.439      0.001       0.381       1.392\n",
              "==============================================================================\n",
              "\"\"\""
            ]
          },
          "metadata": {
            "tags": []
          },
          "execution_count": 7
        }
      ]
    },
    {
      "cell_type": "code",
      "metadata": {
        "id": "axqz1BLmXepX"
      },
      "source": [
        "feature_cols = ['Sound', 'Belly_button', 'sugar_rate']\n",
        "X = data[feature_cols] # Features\n",
        "y = data.GB # Target variable\n",
        "# split X and y into training and testing sets\n",
        "X_train,X_test,y_train,y_test=train_test_split(X,y,test_size=0.5,random_state=2)"
      ],
      "execution_count": 8,
      "outputs": []
    },
    {
      "cell_type": "code",
      "metadata": {
        "colab": {
          "base_uri": "https://localhost:8080/"
        },
        "id": "N8ztF6L6R04Z",
        "outputId": "ea7c3eff-012a-4903-cbd4-bb3d9e394296"
      },
      "source": [
        "# instantiate the model (using the default parameters)\n",
        "logreg = LogisticRegression()\n",
        "\n",
        "# fit the model with data\n",
        "logreg.fit(X_train,y_train)\n",
        "y_pred=logreg.predict(X_test)\n",
        "y_pred"
      ],
      "execution_count": 9,
      "outputs": [
        {
          "output_type": "execute_result",
          "data": {
            "text/plain": [
              "array([1, 0, 0, 0, 0, 0, 0, 0, 0, 0, 0, 1, 0, 0, 0, 0, 0, 0, 0, 1, 0, 1,\n",
              "       0, 1, 0, 0, 0, 1, 0, 0, 0, 0, 0, 1, 0, 0, 1, 0, 1, 0, 1, 0, 0, 1,\n",
              "       1, 0, 0, 0, 0, 0, 0, 1, 0, 0, 0, 0, 0, 1, 0, 1, 0, 1, 1, 0, 1, 0,\n",
              "       0, 1, 0, 1, 0, 0, 0, 0, 0, 0, 0, 1, 0, 1, 0, 0, 0, 0, 0, 0, 1, 1,\n",
              "       1, 1, 0, 0, 0, 0, 0, 0, 0, 1, 0, 1, 0, 1, 0, 0, 1])"
            ]
          },
          "metadata": {
            "tags": []
          },
          "execution_count": 9
        }
      ]
    },
    {
      "cell_type": "code",
      "metadata": {
        "colab": {
          "base_uri": "https://localhost:8080/",
          "height": 342
        },
        "id": "bxCuaCEESBN0",
        "outputId": "e1c24c23-b3ca-47f4-9fd8-c5451175fa6a"
      },
      "source": [
        "from sklearn import metrics\n",
        "cnf_matrix = metrics.confusion_matrix(y_test, y_pred)\n",
        "cnf_matrix\n",
        "\n",
        "# import required modules\n",
        "import seaborn as sns\n",
        "%matplotlib inline\n",
        "\n",
        "class_names=[0,1] # name  of classes\n",
        "fig, ax = plt.subplots()\n",
        "tick_marks = np.arange(len(class_names))\n",
        "plt.xticks(tick_marks, class_names)\n",
        "plt.yticks(tick_marks, class_names)\n",
        "# create heatmap\n",
        "sns.heatmap(pd.DataFrame(cnf_matrix), annot=True, cmap=\"YlGnBu\" ,fmt='g')\n",
        "ax.xaxis.set_label_position(\"top\")\n",
        "plt.tight_layout()\n",
        "plt.title('Confusion matrix', y=1.1)\n",
        "plt.ylabel('Actual label')\n",
        "plt.xlabel('Predicted label')\n"
      ],
      "execution_count": 10,
      "outputs": [
        {
          "output_type": "execute_result",
          "data": {
            "text/plain": [
              "Text(0.5, 257.44, 'Predicted label')"
            ]
          },
          "metadata": {
            "tags": []
          },
          "execution_count": 10
        },
        {
          "output_type": "display_data",
          "data": {
            "image/png": "[encoded data removed]",
            "text/plain": [
              "<Figure size 432x288 with 2 Axes>"
            ]
          },
          "metadata": {
            "tags": [],
            "needs_background": "light"
          }
        }
      ]
    },
    {
      "cell_type": "code",
      "metadata": {
        "colab": {
          "base_uri": "https://localhost:8080/"
        },
        "id": "c_bH4PB-SW4R",
        "outputId": "7d3869ec-0b53-4670-e361-c23fb45c37d2"
      },
      "source": [
        "print(\"Accuracy:\",metrics.accuracy_score(y_test, y_pred))\n",
        "print(\"Precision:\",metrics.precision_score(y_test, y_pred))\n",
        "print(\"Recall:\",metrics.recall_score(y_test, y_pred))"
      ],
      "execution_count": 11,
      "outputs": [
        {
          "output_type": "stream",
          "text": [
            "Accuracy: 0.7714285714285715\n",
            "Precision: 0.7666666666666667\n",
            "Recall: 0.575\n"
          ],
          "name": "stdout"
        }
      ]
    },
    {
      "cell_type": "code",
      "metadata": {
        "colab": {
          "base_uri": "https://localhost:8080/",
          "height": 376
        },
        "id": "S5imftehgk8O",
        "outputId": "7e189709-9f71-4078-aee6-f0e0b0d197af"
      },
      "source": [
        "feature_cols = ['Sound', 'sugar_rate']\n",
        "X = data[feature_cols] # Features\n",
        "y = data.GB # Target variable\n",
        "# split X and y into training and testing sets\n",
        "X_train,X_test,y_train,y_test=train_test_split(X,y,test_size=0.5,random_state=2)\n",
        "# instantiate the model (using the default parameters)\n",
        "logreg = LogisticRegression()\n",
        "\n",
        "# fit the model with data\n",
        "logreg.fit(X_train,y_train)\n",
        "y_pred=logreg.predict(X_test)\n",
        "y_pred\n",
        "from sklearn import metrics\n",
        "cnf_matrix = metrics.confusion_matrix(y_test, y_pred)\n",
        "cnf_matrix\n",
        "\n",
        "class_names=[0,1] # name  of classes\n",
        "fig, ax = plt.subplots()\n",
        "tick_marks = np.arange(len(class_names))\n",
        "plt.xticks(tick_marks, class_names)\n",
        "plt.yticks(tick_marks, class_names)\n",
        "# create heatmap\n",
        "sns.heatmap(pd.DataFrame(cnf_matrix), annot=True, cmap=\"YlGnBu\" ,fmt='g')\n",
        "ax.xaxis.set_label_position(\"top\")\n",
        "plt.tight_layout()\n",
        "plt.title('Confusion matrix', y=1.1)\n",
        "plt.ylabel('Actual label')\n",
        "plt.xlabel('Predicted label')\n",
        "print(\"Accuracy:\",metrics.accuracy_score(y_test, y_pred))\n",
        "print(\"Precision:\",metrics.precision_score(y_test, y_pred))\n",
        "print(\"Recall:\",metrics.recall_score(y_test, y_pred))"
      ],
      "execution_count": 12,
      "outputs": [
        {
          "output_type": "stream",
          "text": [
            "Accuracy: 0.6761904761904762\n",
            "Precision: 0.6363636363636364\n",
            "Recall: 0.35\n"
          ],
          "name": "stdout"
        },
        {
          "output_type": "display_data",
          "data": {
            "image/png": "[encoded data removed]",
            "text/plain": [
              "<Figure size 432x288 with 2 Axes>"
            ]
          },
          "metadata": {
            "tags": [],
            "needs_background": "light"
          }
        }
      ]
    },
    {
      "cell_type": "code",
      "metadata": {
        "colab": {
          "base_uri": "https://localhost:8080/",
          "height": 265
        },
        "id": "9nJ1NRnwSpjX",
        "outputId": "73e4c83d-18d2-4f75-d1c7-68bce33f13e3"
      },
      "source": [
        "y_pred_proba = logreg.predict_proba(X_test)[::,1]\n",
        "fpr, tpr, _ = metrics.roc_curve(y_test,  y_pred_proba)\n",
        "auc = metrics.roc_auc_score(y_test, y_pred_proba)\n",
        "plt.plot(fpr,tpr,label=\"data 1, auc=\"+str(auc))\n",
        "plt.legend(loc=4)\n",
        "plt.show()"
      ],
      "execution_count": 13,
      "outputs": [
        {
          "output_type": "display_data",
          "data": {
            "image/png": "[encoded data removed]",
            "text/plain": [
              "<Figure size 432x288 with 1 Axes>"
            ]
          },
          "metadata": {
            "tags": [],
            "needs_background": "light"
          }
        }
      ]
    },
    {
      "cell_type": "markdown",
      "metadata": {
        "id": "cdmd1-Moips8"
      },
      "source": [
        "LOGIC - CROSS VALIDATION"
      ]
    },
    {
      "cell_type": "code",
      "metadata": {
        "colab": {
          "base_uri": "https://localhost:8080/"
        },
        "id": "CyvKPB_5S-ud",
        "outputId": "56f3859d-d091-4fce-e68d-cc30b837ce9a"
      },
      "source": [
        "from sklearn.model_selection import cross_val_score\n",
        "\n",
        "scores = cross_val_score(logreg, X_train, y_train, cv=10)\n",
        "print('Cross-Validation Accuracy Scores', scores)"
      ],
      "execution_count": 14,
      "outputs": [
        {
          "output_type": "stream",
          "text": [
            "Cross-Validation Accuracy Scores [0.63636364 0.63636364 0.54545455 0.63636364 0.6        0.6\n",
            " 0.5        0.5        0.6        0.4       ]\n"
          ],
          "name": "stdout"
        }
      ]
    },
    {
      "cell_type": "code",
      "metadata": {
        "colab": {
          "base_uri": "https://localhost:8080/"
        },
        "id": "pZO36kSSTESN",
        "outputId": "240bf3ab-4509-49ab-a4f7-d53c2c35d491"
      },
      "source": [
        "scores = pd.Series(scores)\n",
        "scores.min(), scores.mean(), scores.max()"
      ],
      "execution_count": 15,
      "outputs": [
        {
          "output_type": "execute_result",
          "data": {
            "text/plain": [
              "(0.4, 0.5654545454545454, 0.6363636363636364)"
            ]
          },
          "metadata": {
            "tags": []
          },
          "execution_count": 15
        }
      ]
    },
    {
      "cell_type": "markdown",
      "metadata": {
        "id": "BuaTBBkaTHZX"
      },
      "source": [
        "The range of the accuracy is between 0.50 to 0.93 but generally 0.72 on average"
      ]
    },
    {
      "cell_type": "markdown",
      "metadata": {
        "id": "9xUKqRZQie1F"
      },
      "source": [
        "KNN\n"
      ]
    },
    {
      "cell_type": "code",
      "metadata": {
        "id": "qSFoP05dTIg-"
      },
      "source": [
        "from sklearn.neighbors import KNeighborsClassifier\n",
        "\n",
        "model = KNeighborsClassifier(n_neighbors=9) #try for k = 7, 9; best is 9\n",
        "model.fit(X_train,y_train) #train model\n",
        "predicted = model.predict(X_test) # predict output\n"
      ],
      "execution_count": 16,
      "outputs": []
    },
    {
      "cell_type": "code",
      "metadata": {
        "colab": {
          "base_uri": "https://localhost:8080/"
        },
        "id": "hcO671jZiwFz",
        "outputId": "b44ac626-b39d-48c7-d165-f64e72e62861"
      },
      "source": [
        "from sklearn import metrics\n",
        "# Model Accuracy, how often is the classifier correct?\n",
        "#increasing the number of newighbors increases the accuract \n",
        "print(\"Accuracy:\",metrics.accuracy_score(y_test, predicted))"
      ],
      "execution_count": 17,
      "outputs": [
        {
          "output_type": "stream",
          "text": [
            "Accuracy: 0.7523809523809524\n"
          ],
          "name": "stdout"
        }
      ]
    },
    {
      "cell_type": "code",
      "metadata": {
        "id": "ZTqmFhhQTFzK",
        "colab": {
          "base_uri": "https://localhost:8080/"
        },
        "outputId": "a49a9c68-e413-4a61-dcbd-8f95382eea61"
      },
      "source": [
        "# confusion matrix\n",
        "from sklearn.metrics import confusion_matrix\n",
        "\n",
        "matrix = confusion_matrix(y_test, predicted, labels=[1,0])\n",
        "print('Confusion matrix : \\n',matrix)\n",
        "\n",
        "# outcome values order in sklearn\n",
        "tp, fn, fp, tn = confusion_matrix(y_test, predicted, labels=[1,0]).reshape(-1)\n",
        "print('Outcome values : \\n', tp, fn, fp, tn)\n",
        "\n",
        "# the sensitivity = TP / P = TP / (FN + TP) fraction of good watermelons correclty classified\n",
        "print(\"The sensitivity is: \", tp / (fn+tp))\n",
        "\n",
        "# the specificity = TN / N = TN / (TN + FP) fraction of bad watermelons correctly classified as bad\n",
        "print(\"The specificity is: \", tn / (tn+fp))"
      ],
      "execution_count": 18,
      "outputs": [
        {
          "output_type": "stream",
          "text": [
            "Confusion matrix : \n",
            " [[19 21]\n",
            " [ 5 60]]\n",
            "Outcome values : \n",
            " 19 21 5 60\n",
            "The sensitivity is:  0.475\n",
            "The specificity is:  0.9230769230769231\n"
          ],
          "name": "stdout"
        }
      ]
    },
    {
      "cell_type": "markdown",
      "metadata": {
        "id": "BfAMJu4YjISa"
      },
      "source": [
        "KNN - CROSS-VALID (TUNNING)"
      ]
    },
    {
      "cell_type": "code",
      "metadata": {
        "colab": {
          "base_uri": "https://localhost:8080/"
        },
        "id": "E88NjTKNjPDH",
        "outputId": "ce9232c0-fb4c-443c-a033-ea11cebc7472"
      },
      "source": [
        "#elbow curve for the error rate; train with differnet k valyes\n",
        "from sklearn import neighbors\n",
        "from sklearn.metrics import mean_squared_error \n",
        "from math import sqrt\n",
        "\n",
        "rmse_list = [] #to store rmse values for different k\n",
        "for K in range(1,40):\n",
        "    \n",
        "    model = KNeighborsClassifier(n_neighbors=K)\n",
        "    model.fit(X_train,y_train) #train model\n",
        "    pred_k = model.predict(X_test) # predict output\n",
        "    \n",
        "    error = sqrt(mean_squared_error(y_test,pred_k)) #calculate rmse\n",
        "    rmse_list.append(error) #store rmse values\n",
        "    print('RMSE value for k= ' , K , 'is:', error)"
      ],
      "execution_count": 19,
      "outputs": [
        {
          "output_type": "stream",
          "text": [
            "RMSE value for k=  1 is: 0.42538497969766276\n",
            "RMSE value for k=  2 is: 0.40237390808147827\n",
            "RMSE value for k=  3 is: 0.3518657752744984\n",
            "RMSE value for k=  4 is: 0.3779644730092272\n",
            "RMSE value for k=  5 is: 0.3518657752744984\n",
            "RMSE value for k=  6 is: 0.5163977794943222\n",
            "RMSE value for k=  7 is: 0.5163977794943222\n",
            "RMSE value for k=  8 is: 0.5255382728122436\n",
            "RMSE value for k=  9 is: 0.4976133515281193\n",
            "RMSE value for k=  10 is: 0.4879500364742666\n",
            "RMSE value for k=  11 is: 0.4879500364742666\n",
            "RMSE value for k=  12 is: 0.4879500364742666\n",
            "RMSE value for k=  13 is: 0.50709255283711\n",
            "RMSE value for k=  14 is: 0.5163977794943222\n",
            "RMSE value for k=  15 is: 0.5163977794943222\n",
            "RMSE value for k=  16 is: 0.5163977794943222\n",
            "RMSE value for k=  17 is: 0.5163977794943222\n",
            "RMSE value for k=  18 is: 0.5163977794943222\n",
            "RMSE value for k=  19 is: 0.50709255283711\n",
            "RMSE value for k=  20 is: 0.5936168397046637\n",
            "RMSE value for k=  21 is: 0.5855400437691199\n",
            "RMSE value for k=  22 is: 0.5855400437691199\n",
            "RMSE value for k=  23 is: 0.5855400437691199\n",
            "RMSE value for k=  24 is: 0.5855400437691199\n",
            "RMSE value for k=  25 is: 0.5433581647846062\n",
            "RMSE value for k=  26 is: 0.5433581647846062\n",
            "RMSE value for k=  27 is: 0.5433581647846062\n",
            "RMSE value for k=  28 is: 0.5433581647846062\n",
            "RMSE value for k=  29 is: 0.5433581647846062\n",
            "RMSE value for k=  30 is: 0.5433581647846062\n",
            "RMSE value for k=  31 is: 0.5433581647846062\n",
            "RMSE value for k=  32 is: 0.560611910581388\n",
            "RMSE value for k=  33 is: 0.5520524474738834\n",
            "RMSE value for k=  34 is: 0.560611910581388\n",
            "RMSE value for k=  35 is: 0.6248809410409238\n",
            "RMSE value for k=  36 is: 0.6248809410409238\n",
            "RMSE value for k=  37 is: 0.6172133998483676\n",
            "RMSE value for k=  38 is: 0.6172133998483676\n",
            "RMSE value for k=  39 is: 0.6172133998483676\n"
          ],
          "name": "stdout"
        }
      ]
    },
    {
      "cell_type": "code",
      "metadata": {
        "colab": {
          "base_uri": "https://localhost:8080/",
          "height": 421
        },
        "id": "9dCnsTsojRN_",
        "outputId": "af2345a7-473a-49f6-8802-0e5da6163c83"
      },
      "source": [
        "plt.figure(figsize=(10,6))\n",
        "plt.plot(range(1,40), rmse_list, color='blue', linestyle='dashed', marker='o',markerfacecolor='red', markersize=10)\n",
        "plt.title('RMSE Error Rate vs. K Value')\n",
        "plt.xlabel('K')\n",
        "plt.ylabel('Error Rate')"
      ],
      "execution_count": 20,
      "outputs": [
        {
          "output_type": "execute_result",
          "data": {
            "text/plain": [
              "Text(0, 0.5, 'Error Rate')"
            ]
          },
          "metadata": {
            "tags": []
          },
          "execution_count": 20
        },
        {
          "output_type": "display_data",
          "data": {
            "image/png": "[encoded data removed]",
            "text/plain": [
              "<Figure size 720x432 with 1 Axes>"
            ]
          },
          "metadata": {
            "tags": [],
            "needs_background": "light"
          }
        }
      ]
    },
    {
      "cell_type": "code",
      "metadata": {
        "colab": {
          "base_uri": "https://localhost:8080/"
        },
        "id": "rRQP0jpnjV_m",
        "outputId": "f6ef9d39-d843-4aff-c6b6-fb95c946b189"
      },
      "source": [
        "# retrain with new K vale of 5\n",
        "# We retrained the dataset with the new optimjal value\n",
        "from sklearn.metrics import classification_report\n",
        "\n",
        "model = KNeighborsClassifier(n_neighbors=5) #try for k = 7, 9; best is 9\n",
        "model.fit(X_train,y_train) #train model\n",
        "predicted = model.predict(X_test) # predict output\n",
        "\n",
        "print(\"Accuracy:\",metrics.accuracy_score(y_test, predicted))\n",
        "\n",
        "matrix = confusion_matrix(y_test, predicted, labels=[1,0])\n",
        "print('Confusion matrix : \\n',matrix)\n",
        "\n",
        "print(classification_report(y_test, predicted))"
      ],
      "execution_count": 21,
      "outputs": [
        {
          "output_type": "stream",
          "text": [
            "Accuracy: 0.8761904761904762\n",
            "Confusion matrix : \n",
            " [[30 10]\n",
            " [ 3 62]]\n",
            "              precision    recall  f1-score   support\n",
            "\n",
            "           0       0.86      0.95      0.91        65\n",
            "           1       0.91      0.75      0.82        40\n",
            "\n",
            "    accuracy                           0.88       105\n",
            "   macro avg       0.89      0.85      0.86       105\n",
            "weighted avg       0.88      0.88      0.87       105\n",
            "\n"
          ],
          "name": "stdout"
        }
      ]
    }
  ]
}