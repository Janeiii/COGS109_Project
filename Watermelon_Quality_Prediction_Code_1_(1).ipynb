{
  "nbformat": 4,
  "nbformat_minor": 0,
  "metadata": {
    "kernelspec": {
      "display_name": "Python 3",
      "language": "python",
      "name": "python3"
    },
    "language_info": {
      "codemirror_mode": {
        "name": "ipython",
        "version": 3
      },
      "file_extension": ".py",
      "mimetype": "text/x-python",
      "name": "python",
      "nbconvert_exporter": "python",
      "pygments_lexer": "ipython3",
      "version": "3.8.5"
    },
    "colab": {
      "name": "Watermelon_Quality_Prediction_Code_1 (1).ipynb",
      "provenance": [],
      "include_colab_link": true
    }
  },
  "cells": [
    {
      "cell_type": "markdown",
      "metadata": {
        "id": "view-in-github",
        "colab_type": "text"
      },
      "source": [
        "<a href=\"https://colab.research.google.com/github/Janeiii/COGS109_Project/blob/main/Watermelon_Quality_Prediction_Code_1_(1).ipynb\" target=\"_parent\"><img src=\"https://colab.research.google.com/assets/colab-badge.svg\" alt=\"Open In Colab\"/></a>"
      ]
    },
    {
      "cell_type": "markdown",
      "metadata": {
        "id": "_5QehfzRL-9a"
      },
      "source": [
        "## Watermelon Quality Prediction\n",
        "\n",
        "Goal: Predict the watermelon quality using logistic regression and K-nearest neighbors classification."
      ]
    },
    {
      "cell_type": "code",
      "metadata": {
        "id": "MheDXCMZL-9c"
      },
      "source": [
        "# Import the libraries\n",
        "import pandas as pd # data processing, input CSV dile\n",
        "import matplotlib.pyplot as plt # plotting data\n",
        "import statsmodels.api as sm # linear & logistic regression\n",
        "import numpy as np # linear algebra\n",
        "import seaborn as sns # confusion matrix heatmap\n",
        "import statsmodels.formula.api as smf # log-odds ratio"
      ],
      "execution_count": 27,
      "outputs": []
    },
    {
      "cell_type": "code",
      "metadata": {
        "scrolled": false,
        "colab": {
          "base_uri": "https://localhost:8080/",
          "height": 419
        },
        "id": "UYzPyhdQL-9d",
        "outputId": "c5674d7c-38c9-491d-95ea-3b825e60bdb2"
      },
      "source": [
        "# Read in the data\n",
        "data = pd.read_csv('/content/watermelon_data.csv')\n",
        "data"
      ],
      "execution_count": 28,
      "outputs": [
        {
          "output_type": "execute_result",
          "data": {
            "text/html": [
              "<div>\n",
              "<style scoped>\n",
              "    .dataframe tbody tr th:only-of-type {\n",
              "        vertical-align: middle;\n",
              "    }\n",
              "\n",
              "    .dataframe tbody tr th {\n",
              "        vertical-align: top;\n",
              "    }\n",
              "\n",
              "    .dataframe thead th {\n",
              "        text-align: right;\n",
              "    }\n",
              "</style>\n",
              "<table border=\"1\" class=\"dataframe\">\n",
              "  <thead>\n",
              "    <tr style=\"text-align: right;\">\n",
              "      <th></th>\n",
              "      <th>Num</th>\n",
              "      <th>Color</th>\n",
              "      <th>Root</th>\n",
              "      <th>Sound</th>\n",
              "      <th>Texture</th>\n",
              "      <th>Belly_button</th>\n",
              "      <th>Touch</th>\n",
              "      <th>Density</th>\n",
              "      <th>sugar_rate</th>\n",
              "      <th>GB</th>\n",
              "    </tr>\n",
              "  </thead>\n",
              "  <tbody>\n",
              "    <tr>\n",
              "      <th>0</th>\n",
              "      <td>1</td>\n",
              "      <td>Green</td>\n",
              "      <td>rolled up</td>\n",
              "      <td>turbid</td>\n",
              "      <td>clear</td>\n",
              "      <td>sunken</td>\n",
              "      <td>slippery</td>\n",
              "      <td>0.697</td>\n",
              "      <td>0.460</td>\n",
              "      <td>Yes</td>\n",
              "    </tr>\n",
              "    <tr>\n",
              "      <th>1</th>\n",
              "      <td>2</td>\n",
              "      <td>Dark</td>\n",
              "      <td>rolled up</td>\n",
              "      <td>low</td>\n",
              "      <td>clear</td>\n",
              "      <td>sunken</td>\n",
              "      <td>slippery</td>\n",
              "      <td>0.774</td>\n",
              "      <td>0.386</td>\n",
              "      <td>Yes</td>\n",
              "    </tr>\n",
              "    <tr>\n",
              "      <th>2</th>\n",
              "      <td>3</td>\n",
              "      <td>Dark</td>\n",
              "      <td>rolled up</td>\n",
              "      <td>turbid</td>\n",
              "      <td>clear</td>\n",
              "      <td>sunken</td>\n",
              "      <td>slippery</td>\n",
              "      <td>0.634</td>\n",
              "      <td>0.264</td>\n",
              "      <td>No</td>\n",
              "    </tr>\n",
              "    <tr>\n",
              "      <th>3</th>\n",
              "      <td>4</td>\n",
              "      <td>Green</td>\n",
              "      <td>rolled up</td>\n",
              "      <td>low</td>\n",
              "      <td>clear</td>\n",
              "      <td>sunken</td>\n",
              "      <td>slippery</td>\n",
              "      <td>0.608</td>\n",
              "      <td>0.318</td>\n",
              "      <td>Yes</td>\n",
              "    </tr>\n",
              "    <tr>\n",
              "      <th>4</th>\n",
              "      <td>5</td>\n",
              "      <td>light</td>\n",
              "      <td>rolled up</td>\n",
              "      <td>turbid</td>\n",
              "      <td>clear</td>\n",
              "      <td>sunken</td>\n",
              "      <td>slippery</td>\n",
              "      <td>0.556</td>\n",
              "      <td>0.215</td>\n",
              "      <td>Yes</td>\n",
              "    </tr>\n",
              "    <tr>\n",
              "      <th>...</th>\n",
              "      <td>...</td>\n",
              "      <td>...</td>\n",
              "      <td>...</td>\n",
              "      <td>...</td>\n",
              "      <td>...</td>\n",
              "      <td>...</td>\n",
              "      <td>...</td>\n",
              "      <td>...</td>\n",
              "      <td>...</td>\n",
              "      <td>...</td>\n",
              "    </tr>\n",
              "    <tr>\n",
              "      <th>204</th>\n",
              "      <td>214</td>\n",
              "      <td>Dark</td>\n",
              "      <td>rolled up</td>\n",
              "      <td>turbid</td>\n",
              "      <td>clear</td>\n",
              "      <td>sunken</td>\n",
              "      <td>slippery</td>\n",
              "      <td>0.635</td>\n",
              "      <td>0.271</td>\n",
              "      <td>Yes</td>\n",
              "    </tr>\n",
              "    <tr>\n",
              "      <th>205</th>\n",
              "      <td>215</td>\n",
              "      <td>Dark</td>\n",
              "      <td>curly</td>\n",
              "      <td>low</td>\n",
              "      <td>blurry</td>\n",
              "      <td>a little sunken</td>\n",
              "      <td>slippery</td>\n",
              "      <td>0.666</td>\n",
              "      <td>0.089</td>\n",
              "      <td>No</td>\n",
              "    </tr>\n",
              "    <tr>\n",
              "      <th>206</th>\n",
              "      <td>216</td>\n",
              "      <td>Green</td>\n",
              "      <td>straight</td>\n",
              "      <td>clear</td>\n",
              "      <td>clear</td>\n",
              "      <td>flat</td>\n",
              "      <td>sticky</td>\n",
              "      <td>0.244</td>\n",
              "      <td>0.268</td>\n",
              "      <td>No</td>\n",
              "    </tr>\n",
              "    <tr>\n",
              "      <th>207</th>\n",
              "      <td>217</td>\n",
              "      <td>light</td>\n",
              "      <td>straight</td>\n",
              "      <td>clear</td>\n",
              "      <td>very blurry</td>\n",
              "      <td>flat</td>\n",
              "      <td>slippery</td>\n",
              "      <td>0.245</td>\n",
              "      <td>0.058</td>\n",
              "      <td>No</td>\n",
              "    </tr>\n",
              "    <tr>\n",
              "      <th>208</th>\n",
              "      <td>218</td>\n",
              "      <td>light</td>\n",
              "      <td>rolled up</td>\n",
              "      <td>turbid</td>\n",
              "      <td>very blurry</td>\n",
              "      <td>flat</td>\n",
              "      <td>sticky</td>\n",
              "      <td>0.343</td>\n",
              "      <td>0.099</td>\n",
              "      <td>No</td>\n",
              "    </tr>\n",
              "  </tbody>\n",
              "</table>\n",
              "<p>209 rows × 10 columns</p>\n",
              "</div>"
            ],
            "text/plain": [
              "     Num  Color       Root   Sound  ...     Touch Density sugar_rate   GB\n",
              "0      1  Green  rolled up  turbid  ...  slippery   0.697      0.460  Yes\n",
              "1      2   Dark  rolled up     low  ...  slippery   0.774      0.386  Yes\n",
              "2      3   Dark  rolled up  turbid  ...  slippery   0.634      0.264   No\n",
              "3      4  Green  rolled up     low  ...  slippery   0.608      0.318  Yes\n",
              "4      5  light  rolled up  turbid  ...  slippery   0.556      0.215  Yes\n",
              "..   ...    ...        ...     ...  ...       ...     ...        ...  ...\n",
              "204  214   Dark  rolled up  turbid  ...  slippery   0.635      0.271  Yes\n",
              "205  215   Dark      curly     low  ...  slippery   0.666      0.089   No\n",
              "206  216  Green   straight   clear  ...    sticky   0.244      0.268   No\n",
              "207  217  light   straight   clear  ...  slippery   0.245      0.058   No\n",
              "208  218  light  rolled up  turbid  ...    sticky   0.343      0.099   No\n",
              "\n",
              "[209 rows x 10 columns]"
            ]
          },
          "metadata": {
            "tags": []
          },
          "execution_count": 28
        }
      ]
    },
    {
      "cell_type": "code",
      "metadata": {
        "colab": {
          "base_uri": "https://localhost:8080/"
        },
        "id": "pXl5c03uL-9e",
        "outputId": "9f5fffa8-c2f8-478e-a30f-c9a845949e9a"
      },
      "source": [
        "# Understand the data\n",
        "data.info()"
      ],
      "execution_count": 29,
      "outputs": [
        {
          "output_type": "stream",
          "text": [
            "<class 'pandas.core.frame.DataFrame'>\n",
            "RangeIndex: 209 entries, 0 to 208\n",
            "Data columns (total 10 columns):\n",
            " #   Column        Non-Null Count  Dtype  \n",
            "---  ------        --------------  -----  \n",
            " 0   Num           209 non-null    int64  \n",
            " 1   Color         209 non-null    object \n",
            " 2   Root          209 non-null    object \n",
            " 3   Sound         209 non-null    object \n",
            " 4   Texture       209 non-null    object \n",
            " 5   Belly_button  209 non-null    object \n",
            " 6   Touch         209 non-null    object \n",
            " 7   Density       209 non-null    float64\n",
            " 8   sugar_rate    209 non-null    float64\n",
            " 9   GB            209 non-null    object \n",
            "dtypes: float64(2), int64(1), object(7)\n",
            "memory usage: 16.5+ KB\n"
          ],
          "name": "stdout"
        }
      ]
    },
    {
      "cell_type": "code",
      "metadata": {
        "colab": {
          "base_uri": "https://localhost:8080/"
        },
        "id": "-LZnDA7_L-9e",
        "outputId": "420d8ea3-93c4-4121-d319-40d5f63a4716"
      },
      "source": [
        "print(\"Column items in the dataset:\")\n",
        "print(data.columns.values)\n",
        "\n",
        "print(\"Categorical columns:\")\n",
        "cat_cols = data.select_dtypes(include = 'object').columns.values\n",
        "print(cat_cols)\n",
        "\n",
        "print(\"Numerical columns:\")\n",
        "numeric_cols = data.select_dtypes(include = np.number).columns.values\n",
        "print(numeric_cols)"
      ],
      "execution_count": 30,
      "outputs": [
        {
          "output_type": "stream",
          "text": [
            "Column items in the dataset:\n",
            "['Num' 'Color' 'Root' 'Sound' 'Texture' 'Belly_button' 'Touch' 'Density'\n",
            " 'sugar_rate' 'GB']\n",
            "Categorical columns:\n",
            "['Color' 'Root' 'Sound' 'Texture' 'Belly_button' 'Touch' 'GB']\n",
            "Numerical columns:\n",
            "['Num' 'Density' 'sugar_rate']\n"
          ],
          "name": "stdout"
        }
      ]
    },
    {
      "cell_type": "code",
      "metadata": {
        "colab": {
          "base_uri": "https://localhost:8080/",
          "height": 296
        },
        "id": "i0ZI7KE5MmM9",
        "outputId": "d1b13892-79ef-41c4-dfd5-75d5d2ede04a"
      },
      "source": [
        "sns.boxplot(x = data['Density'], y = data['GB'])"
      ],
      "execution_count": 31,
      "outputs": [
        {
          "output_type": "execute_result",
          "data": {
            "text/plain": [
              "<matplotlib.axes._subplots.AxesSubplot at 0x7f9fb6a7a7d0>"
            ]
          },
          "metadata": {
            "tags": []
          },
          "execution_count": 31
        },
        {
          "output_type": "display_data",
          "data": {
            "image/png": "[encoded data removed]",
            "text/plain": [
              "<Figure size 432x288 with 1 Axes>"
            ]
          },
          "metadata": {
            "tags": [],
            "needs_background": "light"
          }
        }
      ]
    },
    {
      "cell_type": "code",
      "metadata": {
        "colab": {
          "base_uri": "https://localhost:8080/",
          "height": 297
        },
        "id": "mJplfHr0MsOx",
        "outputId": "b056da38-d2e5-427f-ed8d-3e2c146f7e57"
      },
      "source": [
        "sns.boxplot(x = data['sugar_rate'], y = data['GB'])\n"
      ],
      "execution_count": 32,
      "outputs": [
        {
          "output_type": "execute_result",
          "data": {
            "text/plain": [
              "<matplotlib.axes._subplots.AxesSubplot at 0x7f9fb698d5d0>"
            ]
          },
          "metadata": {
            "tags": []
          },
          "execution_count": 32
        },
        {
          "output_type": "display_data",
          "data": {
            "image/png": "[encoded data removed]",
            "text/plain": [
              "<Figure size 432x288 with 1 Axes>"
            ]
          },
          "metadata": {
            "tags": [],
            "needs_background": "light"
          }
        }
      ]
    },
    {
      "cell_type": "code",
      "metadata": {
        "id": "wnsFv5bdL-9f"
      },
      "source": [
        "# Encode labels for the categorical variables\n",
        "from sklearn import preprocessing  \n",
        "\n",
        "label_encoder = preprocessing.LabelEncoder()\n",
        "  \n",
        "data['Color']= label_encoder.fit_transform(data['Color'])\n",
        "data['Root']=label_encoder.fit_transform(data['Root'])\n",
        "data['Sound']=label_encoder.fit_transform(data['Sound'])\n",
        "data['Texture']=label_encoder.fit_transform(data['Texture'])\n",
        "data['Touch']=label_encoder.fit_transform(data['Touch'])\n",
        "data['Belly_button']=label_encoder.fit_transform(data['Belly_button'])\n",
        "data['GB'] = label_encoder.fit_transform(data['GB'])"
      ],
      "execution_count": 33,
      "outputs": []
    },
    {
      "cell_type": "code",
      "metadata": {
        "id": "df47XDdGL-9f"
      },
      "source": [
        "# Exclude Num from columns because it is not a relevant predictor\n",
        "feature_cols = ['Color', 'Root', 'Sound', 'Texture','Belly_button','Touch','Density', 'sugar_rate']\n",
        "X = data[feature_cols] # Features\n",
        "y = data.GB # Target variable"
      ],
      "execution_count": 34,
      "outputs": []
    },
    {
      "cell_type": "code",
      "metadata": {
        "id": "zHci59p7L-9g"
      },
      "source": [
        "# Split the data into 80% training and 20% testing with a randomstate to balance out the dataset\n",
        "from sklearn.model_selection import train_test_split \n",
        "\n",
        "X_train,X_test,y_train,y_test=train_test_split(X,y,test_size=0.2,random_state=42)"
      ],
      "execution_count": 35,
      "outputs": []
    },
    {
      "cell_type": "code",
      "metadata": {
        "scrolled": true,
        "colab": {
          "base_uri": "https://localhost:8080/"
        },
        "id": "mI5xXKb6L-9g",
        "outputId": "d07a91ca-ccbb-4920-c246-5d8ae39bb3c5"
      },
      "source": [
        "# Check for the amount of good/bad watermelons in the test set\n",
        "good_list=[]\n",
        "bad_list =[]\n",
        "\n",
        "for i in y_test:\n",
        "    if i == 0:\n",
        "        bad_list.append(i)\n",
        "    else:\n",
        "        good_list.append(i)\n",
        "\n",
        "print(\"Test set has: \", len(bad_list), \"bad watermelons\")\n",
        "print(\"Test set has: \", len(good_list), \"good watermelons\")"
      ],
      "execution_count": 36,
      "outputs": [
        {
          "output_type": "stream",
          "text": [
            "Test set has:  27 bad watermelons\n",
            "Test set has:  15 good watermelons\n"
          ],
          "name": "stdout"
        }
      ]
    },
    {
      "cell_type": "markdown",
      "metadata": {
        "id": "xpfvUCl9L-9g"
      },
      "source": [
        "### Log odds ratio"
      ]
    },
    {
      "cell_type": "code",
      "metadata": {
        "colab": {
          "base_uri": "https://localhost:8080/"
        },
        "id": "fdlmqEoJL-9h",
        "outputId": "772a4b47-0068-4920-e84c-e45382cc760f"
      },
      "source": [
        "logistic1 = smf.logit(formula= 'GB ~ Color + Root + Sound + Texture + Belly_button + Touch + Density + sugar_rate', data= data)\n",
        "fitted = logistic1.fit()\n",
        "fitted.summary()\n",
        "np.exp(fitted.params)"
      ],
      "execution_count": 37,
      "outputs": [
        {
          "output_type": "stream",
          "text": [
            "Optimization terminated successfully.\n",
            "         Current function value: 0.474812\n",
            "         Iterations 7\n"
          ],
          "name": "stdout"
        },
        {
          "output_type": "execute_result",
          "data": {
            "text/plain": [
              "Intercept         0.004558\n",
              "Color             0.758312\n",
              "Root              1.643137\n",
              "Sound             3.021667\n",
              "Texture           1.292895\n",
              "Belly_button      1.488933\n",
              "Touch             0.611481\n",
              "Density           8.755790\n",
              "sugar_rate      638.171086\n",
              "dtype: float64"
            ]
          },
          "metadata": {
            "tags": []
          },
          "execution_count": 37
        }
      ]
    },
    {
      "cell_type": "markdown",
      "metadata": {
        "id": "ktn6YLadL-9h"
      },
      "source": [
        "### Logistic Regression"
      ]
    },
    {
      "cell_type": "code",
      "metadata": {
        "id": "_4TCvAyHL-9h"
      },
      "source": [
        "# instantiate the model (using the default parameters)\n",
        "from sklearn.linear_model import LogisticRegression\n",
        "\n",
        "logreg = LogisticRegression()\n",
        "\n",
        "# fit the model with data\n",
        "logreg.fit(X_train,y_train)\n",
        "y_pred=logreg.predict(X_test)"
      ],
      "execution_count": 38,
      "outputs": []
    },
    {
      "cell_type": "code",
      "metadata": {
        "scrolled": true,
        "colab": {
          "base_uri": "https://localhost:8080/"
        },
        "id": "OUJaIGU6L-9i",
        "outputId": "74ca16e9-42fd-40a6-ea1d-39ee2e1135f1"
      },
      "source": [
        "from sklearn import metrics\n",
        "\n",
        "cnf_matrix = metrics.confusion_matrix(y_test, y_pred)\n",
        "cnf_matrix"
      ],
      "execution_count": 39,
      "outputs": [
        {
          "output_type": "execute_result",
          "data": {
            "text/plain": [
              "array([[22,  5],\n",
              "       [ 9,  6]])"
            ]
          },
          "metadata": {
            "tags": []
          },
          "execution_count": 39
        }
      ]
    },
    {
      "cell_type": "code",
      "metadata": {
        "colab": {
          "base_uri": "https://localhost:8080/",
          "height": 338
        },
        "id": "-ocR0N9pL-9i",
        "outputId": "d558dda1-0c32-4966-a9aa-67489ebe9e84"
      },
      "source": [
        "# Convert the confusion matrix array into a heatmap\n",
        "%matplotlib inline\n",
        "\n",
        "class_names=[0,1] # name  of classes\n",
        "fig, ax = plt.subplots()\n",
        "tick_marks = np.arange(len(class_names))\n",
        "plt.xticks(tick_marks, class_names)\n",
        "plt.yticks(tick_marks, class_names)\n",
        "\n",
        "# create heatmap\n",
        "sns.heatmap(pd.DataFrame(cnf_matrix), annot=True, cmap=\"YlGnBu\" ,fmt='g')\n",
        "ax.xaxis.set_label_position(\"top\")\n",
        "plt.tight_layout()\n",
        "plt.title('Confusion matrix', y=1.1)\n",
        "plt.ylabel('Actual label')\n",
        "plt.xlabel('Predicted label')"
      ],
      "execution_count": 40,
      "outputs": [
        {
          "output_type": "execute_result",
          "data": {
            "text/plain": [
              "Text(0.5, 257.44, 'Predicted label')"
            ]
          },
          "metadata": {
            "tags": []
          },
          "execution_count": 40
        },
        {
          "output_type": "display_data",
          "data": {
            "image/png": "[encoded data removed]",
            "text/plain": [
              "<Figure size 432x288 with 2 Axes>"
            ]
          },
          "metadata": {
            "tags": [],
            "needs_background": "light"
          }
        }
      ]
    },
    {
      "cell_type": "code",
      "metadata": {
        "scrolled": false,
        "colab": {
          "base_uri": "https://localhost:8080/"
        },
        "id": "dsbJSZUuL-9i",
        "outputId": "62942031-1b3f-4831-bbe2-ecd6e2717f83"
      },
      "source": [
        "from sklearn.metrics import recall_score, precision_score,accuracy_score\n",
        "\n",
        "print(\"Accuracy:\",metrics.accuracy_score(y_test, y_pred))\n",
        "print(\"Precision:\",metrics.precision_score(y_test, y_pred))\n",
        "print(\"Recall:\",metrics.recall_score(y_test, y_pred))"
      ],
      "execution_count": 41,
      "outputs": [
        {
          "output_type": "stream",
          "text": [
            "Accuracy: 0.6666666666666666\n",
            "Precision: 0.5454545454545454\n",
            "Recall: 0.4\n"
          ],
          "name": "stdout"
        }
      ]
    },
    {
      "cell_type": "markdown",
      "metadata": {
        "id": "0F6hj3R_L-9i"
      },
      "source": [
        "### K-Nearest Neighbors (KNN)"
      ]
    },
    {
      "cell_type": "code",
      "metadata": {
        "colab": {
          "base_uri": "https://localhost:8080/"
        },
        "id": "XGGt2ezKL-9j",
        "outputId": "b2a48d52-3ff0-43c6-fde3-0299c8488a18"
      },
      "source": [
        "# KNN - select optimal K on the training set using the elbow method\n",
        "from sklearn.neighbors import KNeighborsClassifier\n",
        "from sklearn.metrics import mean_squared_error\n",
        "from math import sqrt\n",
        "\n",
        "#elbow curve for the error rate; train with differnet k values\n",
        "rmse_list = [] #to store rmse values for different k\n",
        "for K in range(1,40):\n",
        "    \n",
        "    model = KNeighborsClassifier(n_neighbors=K)\n",
        "    model.fit(X_train,y_train) #train model\n",
        "    pred_k = model.predict(X_test) # predict output\n",
        "    \n",
        "    error = sqrt(mean_squared_error(y_test,pred_k)) #calculate rmse\n",
        "    rmse_list.append(error) #store rmse values\n",
        "    print('RMSE value for K= ' , K , 'is:', error)"
      ],
      "execution_count": 42,
      "outputs": [
        {
          "output_type": "stream",
          "text": [
            "RMSE value for K=  1 is: 0.4629100498862757\n",
            "RMSE value for K=  2 is: 0.4629100498862757\n",
            "RMSE value for K=  3 is: 0.3450327796711771\n",
            "RMSE value for K=  4 is: 0.408248290463863\n",
            "RMSE value for K=  5 is: 0.3779644730092272\n",
            "RMSE value for K=  6 is: 0.4879500364742666\n",
            "RMSE value for K=  7 is: 0.4879500364742666\n",
            "RMSE value for K=  8 is: 0.4879500364742666\n",
            "RMSE value for K=  9 is: 0.4879500364742666\n",
            "RMSE value for K=  10 is: 0.4879500364742666\n",
            "RMSE value for K=  11 is: 0.4879500364742666\n",
            "RMSE value for K=  12 is: 0.4879500364742666\n",
            "RMSE value for K=  13 is: 0.4879500364742666\n",
            "RMSE value for K=  14 is: 0.4879500364742666\n",
            "RMSE value for K=  15 is: 0.4879500364742666\n",
            "RMSE value for K=  16 is: 0.4879500364742666\n",
            "RMSE value for K=  17 is: 0.4879500364742666\n",
            "RMSE value for K=  18 is: 0.4879500364742666\n",
            "RMSE value for K=  19 is: 0.4879500364742666\n",
            "RMSE value for K=  20 is: 0.4879500364742666\n",
            "RMSE value for K=  21 is: 0.4879500364742666\n",
            "RMSE value for K=  22 is: 0.4879500364742666\n",
            "RMSE value for K=  23 is: 0.4879500364742666\n",
            "RMSE value for K=  24 is: 0.4879500364742666\n",
            "RMSE value for K=  25 is: 0.4879500364742666\n",
            "RMSE value for K=  26 is: 0.4879500364742666\n",
            "RMSE value for K=  27 is: 0.4879500364742666\n",
            "RMSE value for K=  28 is: 0.4879500364742666\n",
            "RMSE value for K=  29 is: 0.4879500364742666\n",
            "RMSE value for K=  30 is: 0.4879500364742666\n",
            "RMSE value for K=  31 is: 0.4879500364742666\n",
            "RMSE value for K=  32 is: 0.4879500364742666\n",
            "RMSE value for K=  33 is: 0.4879500364742666\n",
            "RMSE value for K=  34 is: 0.4879500364742666\n",
            "RMSE value for K=  35 is: 0.5563486402641868\n",
            "RMSE value for K=  36 is: 0.5563486402641868\n",
            "RMSE value for K=  37 is: 0.5563486402641868\n",
            "RMSE value for K=  38 is: 0.5563486402641868\n",
            "RMSE value for K=  39 is: 0.6172133998483676\n"
          ],
          "name": "stdout"
        }
      ]
    },
    {
      "cell_type": "code",
      "metadata": {
        "colab": {
          "base_uri": "https://localhost:8080/",
          "height": 421
        },
        "id": "KrUnjMQVL-9j",
        "outputId": "cee440e8-a232-401a-b7b3-c2f65a9bace1"
      },
      "source": [
        "# Visualize the elbow plot\n",
        "plt.figure(figsize=(10,6))\n",
        "plt.plot(range(1,40), rmse_list, color='blue', linestyle='dashed', marker='o',markerfacecolor='red', markersize=10)\n",
        "plt.title('RMSE Error Rate vs. K Value')\n",
        "plt.xlabel('K')\n",
        "plt.ylabel('Error Rate')"
      ],
      "execution_count": 43,
      "outputs": [
        {
          "output_type": "execute_result",
          "data": {
            "text/plain": [
              "Text(0, 0.5, 'Error Rate')"
            ]
          },
          "metadata": {
            "tags": []
          },
          "execution_count": 43
        },
        {
          "output_type": "display_data",
          "data": {
            "image/png": "[encoded data removed]",
            "text/plain": [
              "<Figure size 720x432 with 1 Axes>"
            ]
          },
          "metadata": {
            "tags": [],
            "needs_background": "light"
          }
        }
      ]
    },
    {
      "cell_type": "code",
      "metadata": {
        "id": "C6G_NFtaL-9j"
      },
      "source": [
        "# Select the K value with the lowest RMSE \n",
        "# we find that the earliest occurence of the lowest K is is K = 3 with RMSE = 0.3450327796711771"
      ],
      "execution_count": 44,
      "outputs": []
    },
    {
      "cell_type": "code",
      "metadata": {
        "scrolled": true,
        "id": "zhu6K3C9L-9k"
      },
      "source": [
        "# Use best K KNN to train on all the training data (K = 3)\n",
        "model = KNeighborsClassifier(n_neighbors=3)\n",
        "model.fit(X_train,y_train) #train model\n",
        "y_pred = model.predict(X_test) # predict output"
      ],
      "execution_count": 45,
      "outputs": []
    },
    {
      "cell_type": "code",
      "metadata": {
        "colab": {
          "base_uri": "https://localhost:8080/"
        },
        "id": "DRr27zIsL-9k",
        "outputId": "9c6665ab-e127-46f2-8547-e05b5a1358ac"
      },
      "source": [
        "# Test on the 20% to get accuracy measure\n",
        "cnf_matrix = metrics.confusion_matrix(y_test, y_pred)\n",
        "cnf_matrix"
      ],
      "execution_count": 46,
      "outputs": [
        {
          "output_type": "execute_result",
          "data": {
            "text/plain": [
              "array([[26,  1],\n",
              "       [ 4, 11]])"
            ]
          },
          "metadata": {
            "tags": []
          },
          "execution_count": 46
        }
      ]
    },
    {
      "cell_type": "code",
      "metadata": {
        "colab": {
          "base_uri": "https://localhost:8080/",
          "height": 342
        },
        "id": "7RWCWib4L-9l",
        "outputId": "890962f4-216d-4e8e-af39-0375493af0b6"
      },
      "source": [
        "# Convert the confusion matrix array into a heatmap\n",
        "%matplotlib inline\n",
        "\n",
        "class_names=[0,1] # name  of classes\n",
        "fig, ax = plt.subplots()\n",
        "tick_marks = np.arange(len(class_names))\n",
        "plt.xticks(tick_marks, class_names)\n",
        "plt.yticks(tick_marks, class_names)\n",
        "\n",
        "# create heatmap\n",
        "sns.heatmap(pd.DataFrame(cnf_matrix), annot=True, cmap=\"YlGnBu\" ,fmt='g')\n",
        "ax.xaxis.set_label_position(\"top\")\n",
        "plt.tight_layout()\n",
        "plt.title('Confusion matrix', y=1.1)\n",
        "plt.ylabel('Actual label')\n",
        "plt.xlabel('Predicted label')"
      ],
      "execution_count": 47,
      "outputs": [
        {
          "output_type": "execute_result",
          "data": {
            "text/plain": [
              "Text(0.5, 257.44, 'Predicted label')"
            ]
          },
          "metadata": {
            "tags": []
          },
          "execution_count": 47
        },
        {
          "output_type": "display_data",
          "data": {
            "image/png": "[encoded data removed]",
            "text/plain": [
              "<Figure size 432x288 with 2 Axes>"
            ]
          },
          "metadata": {
            "tags": [],
            "needs_background": "light"
          }
        }
      ]
    },
    {
      "cell_type": "code",
      "metadata": {
        "colab": {
          "base_uri": "https://localhost:8080/"
        },
        "id": "IbpyKo0SL-9l",
        "outputId": "1d733074-3585-487a-f351-173d6b76c723"
      },
      "source": [
        "print(\"Accuracy:\",metrics.accuracy_score(y_test, y_pred))\n",
        "print(\"Precision:\",metrics.precision_score(y_test, y_pred))\n",
        "print(\"Recall:\",metrics.recall_score(y_test, y_pred))"
      ],
      "execution_count": 48,
      "outputs": [
        {
          "output_type": "stream",
          "text": [
            "Accuracy: 0.8809523809523809\n",
            "Precision: 0.9166666666666666\n",
            "Recall: 0.7333333333333333\n"
          ],
          "name": "stdout"
        }
      ]
    },
    {
      "cell_type": "code",
      "metadata": {
        "colab": {
          "base_uri": "https://localhost:8080/",
          "height": 1000
        },
        "id": "IOc6hDXrL-9l",
        "outputId": "02c21358-46ab-4547-fb4c-8f0dc8a8aa33"
      },
      "source": [
        "%matplotlib inline\n",
        "pd.crosstab(data.Color,data.GB).plot(kind='bar')\n",
        "plt.title('Color vs. GB')\n",
        "plt.ylabel('Number of watermelons')\n",
        "plt.xticks(rotation=30, horizontalalignment=\"center\")\n",
        "pd.crosstab(data.Root,data.GB).plot(kind='bar')\n",
        "plt.title('Root vs. GB')\n",
        "plt.ylabel('Number of watermelons')\n",
        "plt.xticks(rotation=30, horizontalalignment=\"center\")\n",
        "pd.crosstab(data.Sound,data.GB).plot(kind='bar')\n",
        "plt.title('Sound vs. GB')\n",
        "plt.ylabel('Number of watermelons')\n",
        "plt.xticks(rotation=30, horizontalalignment=\"center\")\n",
        "pd.crosstab(data.Texture,data.GB).plot(kind='bar')\n",
        "plt.title('Texture vs. GB')\n",
        "plt.ylabel('Number of watermelons')\n",
        "plt.xticks(rotation=30, horizontalalignment=\"center\")\n",
        "pd.crosstab(data.Belly_button,data.GB).plot(kind='bar')\n",
        "plt.title('Belly_button vs. GB')\n",
        "plt.ylabel('Number of watermelons')\n",
        "plt.xticks(rotation=30, horizontalalignment=\"center\")\n",
        "pd.crosstab(data.Touch,data.GB).plot(kind='bar')\n",
        "plt.title('Touch vs. GB')\n",
        "plt.ylabel('Number of watermelons')\n",
        "plt.xticks(rotation=30, horizontalalignment=\"center\")"
      ],
      "execution_count": 49,
      "outputs": [
        {
          "output_type": "execute_result",
          "data": {
            "text/plain": [
              "(array([0, 1]), <a list of 2 Text major ticklabel objects>)"
            ]
          },
          "metadata": {
            "tags": []
          },
          "execution_count": 49
        },
        {
          "output_type": "display_data",
          "data": {
            "image/png": "[encoded data removed]",
            "text/plain": [
              "<Figure size 432x288 with 1 Axes>"
            ]
          },
          "metadata": {
            "tags": [],
            "needs_background": "light"
          }
        },
        {
          "output_type": "display_data",
          "data": {
            "image/png": "[encoded data removed]",
            "text/plain": [
              "<Figure size 432x288 with 1 Axes>"
            ]
          },
          "metadata": {
            "tags": [],
            "needs_background": "light"
          }
        },
        {
          "output_type": "display_data",
          "data": {
            "image/png": "[encoded data removed]",
            "text/plain": [
              "<Figure size 432x288 with 1 Axes>"
            ]
          },
          "metadata": {
            "tags": [],
            "needs_background": "light"
          }
        },
        {
          "output_type": "display_data",
          "data": {
            "image/png": "[encoded data removed]",
            "text/plain": [
              "<Figure size 432x288 with 1 Axes>"
            ]
          },
          "metadata": {
            "tags": [],
            "needs_background": "light"
          }
        },
        {
          "output_type": "display_data",
          "data": {
            "image/png": "[encoded data removed]",
            "text/plain": [
              "<Figure size 432x288 with 1 Axes>"
            ]
          },
          "metadata": {
            "tags": [],
            "needs_background": "light"
          }
        },
        {
          "output_type": "display_data",
          "data": {
            "image/png": "[encoded data removed]",
            "text/plain": [
              "<Figure size 432x288 with 1 Axes>"
            ]
          },
          "metadata": {
            "tags": [],
            "needs_background": "light"
          }
        }
      ]
    },
    {
      "cell_type": "code",
      "metadata": {
        "colab": {
          "base_uri": "https://localhost:8080/",
          "height": 419
        },
        "id": "7aIvzNVNL-9m",
        "outputId": "0526972c-0165-4333-c0e7-e55055dd83ac"
      },
      "source": [
        "data"
      ],
      "execution_count": 50,
      "outputs": [
        {
          "output_type": "execute_result",
          "data": {
            "text/html": [
              "<div>\n",
              "<style scoped>\n",
              "    .dataframe tbody tr th:only-of-type {\n",
              "        vertical-align: middle;\n",
              "    }\n",
              "\n",
              "    .dataframe tbody tr th {\n",
              "        vertical-align: top;\n",
              "    }\n",
              "\n",
              "    .dataframe thead th {\n",
              "        text-align: right;\n",
              "    }\n",
              "</style>\n",
              "<table border=\"1\" class=\"dataframe\">\n",
              "  <thead>\n",
              "    <tr style=\"text-align: right;\">\n",
              "      <th></th>\n",
              "      <th>Num</th>\n",
              "      <th>Color</th>\n",
              "      <th>Root</th>\n",
              "      <th>Sound</th>\n",
              "      <th>Texture</th>\n",
              "      <th>Belly_button</th>\n",
              "      <th>Touch</th>\n",
              "      <th>Density</th>\n",
              "      <th>sugar_rate</th>\n",
              "      <th>GB</th>\n",
              "    </tr>\n",
              "  </thead>\n",
              "  <tbody>\n",
              "    <tr>\n",
              "      <th>0</th>\n",
              "      <td>1</td>\n",
              "      <td>1</td>\n",
              "      <td>1</td>\n",
              "      <td>2</td>\n",
              "      <td>1</td>\n",
              "      <td>2</td>\n",
              "      <td>0</td>\n",
              "      <td>0.697</td>\n",
              "      <td>0.460</td>\n",
              "      <td>1</td>\n",
              "    </tr>\n",
              "    <tr>\n",
              "      <th>1</th>\n",
              "      <td>2</td>\n",
              "      <td>0</td>\n",
              "      <td>1</td>\n",
              "      <td>1</td>\n",
              "      <td>1</td>\n",
              "      <td>2</td>\n",
              "      <td>0</td>\n",
              "      <td>0.774</td>\n",
              "      <td>0.386</td>\n",
              "      <td>1</td>\n",
              "    </tr>\n",
              "    <tr>\n",
              "      <th>2</th>\n",
              "      <td>3</td>\n",
              "      <td>0</td>\n",
              "      <td>1</td>\n",
              "      <td>2</td>\n",
              "      <td>1</td>\n",
              "      <td>2</td>\n",
              "      <td>0</td>\n",
              "      <td>0.634</td>\n",
              "      <td>0.264</td>\n",
              "      <td>0</td>\n",
              "    </tr>\n",
              "    <tr>\n",
              "      <th>3</th>\n",
              "      <td>4</td>\n",
              "      <td>1</td>\n",
              "      <td>1</td>\n",
              "      <td>1</td>\n",
              "      <td>1</td>\n",
              "      <td>2</td>\n",
              "      <td>0</td>\n",
              "      <td>0.608</td>\n",
              "      <td>0.318</td>\n",
              "      <td>1</td>\n",
              "    </tr>\n",
              "    <tr>\n",
              "      <th>4</th>\n",
              "      <td>5</td>\n",
              "      <td>2</td>\n",
              "      <td>1</td>\n",
              "      <td>2</td>\n",
              "      <td>1</td>\n",
              "      <td>2</td>\n",
              "      <td>0</td>\n",
              "      <td>0.556</td>\n",
              "      <td>0.215</td>\n",
              "      <td>1</td>\n",
              "    </tr>\n",
              "    <tr>\n",
              "      <th>...</th>\n",
              "      <td>...</td>\n",
              "      <td>...</td>\n",
              "      <td>...</td>\n",
              "      <td>...</td>\n",
              "      <td>...</td>\n",
              "      <td>...</td>\n",
              "      <td>...</td>\n",
              "      <td>...</td>\n",
              "      <td>...</td>\n",
              "      <td>...</td>\n",
              "    </tr>\n",
              "    <tr>\n",
              "      <th>204</th>\n",
              "      <td>214</td>\n",
              "      <td>0</td>\n",
              "      <td>1</td>\n",
              "      <td>2</td>\n",
              "      <td>1</td>\n",
              "      <td>2</td>\n",
              "      <td>0</td>\n",
              "      <td>0.635</td>\n",
              "      <td>0.271</td>\n",
              "      <td>1</td>\n",
              "    </tr>\n",
              "    <tr>\n",
              "      <th>205</th>\n",
              "      <td>215</td>\n",
              "      <td>0</td>\n",
              "      <td>0</td>\n",
              "      <td>1</td>\n",
              "      <td>0</td>\n",
              "      <td>0</td>\n",
              "      <td>0</td>\n",
              "      <td>0.666</td>\n",
              "      <td>0.089</td>\n",
              "      <td>0</td>\n",
              "    </tr>\n",
              "    <tr>\n",
              "      <th>206</th>\n",
              "      <td>216</td>\n",
              "      <td>1</td>\n",
              "      <td>2</td>\n",
              "      <td>0</td>\n",
              "      <td>1</td>\n",
              "      <td>1</td>\n",
              "      <td>1</td>\n",
              "      <td>0.244</td>\n",
              "      <td>0.268</td>\n",
              "      <td>0</td>\n",
              "    </tr>\n",
              "    <tr>\n",
              "      <th>207</th>\n",
              "      <td>217</td>\n",
              "      <td>2</td>\n",
              "      <td>2</td>\n",
              "      <td>0</td>\n",
              "      <td>2</td>\n",
              "      <td>1</td>\n",
              "      <td>0</td>\n",
              "      <td>0.245</td>\n",
              "      <td>0.058</td>\n",
              "      <td>0</td>\n",
              "    </tr>\n",
              "    <tr>\n",
              "      <th>208</th>\n",
              "      <td>218</td>\n",
              "      <td>2</td>\n",
              "      <td>1</td>\n",
              "      <td>2</td>\n",
              "      <td>2</td>\n",
              "      <td>1</td>\n",
              "      <td>1</td>\n",
              "      <td>0.343</td>\n",
              "      <td>0.099</td>\n",
              "      <td>0</td>\n",
              "    </tr>\n",
              "  </tbody>\n",
              "</table>\n",
              "<p>209 rows × 10 columns</p>\n",
              "</div>"
            ],
            "text/plain": [
              "     Num  Color  Root  Sound  ...  Touch  Density  sugar_rate  GB\n",
              "0      1      1     1      2  ...      0    0.697       0.460   1\n",
              "1      2      0     1      1  ...      0    0.774       0.386   1\n",
              "2      3      0     1      2  ...      0    0.634       0.264   0\n",
              "3      4      1     1      1  ...      0    0.608       0.318   1\n",
              "4      5      2     1      2  ...      0    0.556       0.215   1\n",
              "..   ...    ...   ...    ...  ...    ...      ...         ...  ..\n",
              "204  214      0     1      2  ...      0    0.635       0.271   1\n",
              "205  215      0     0      1  ...      0    0.666       0.089   0\n",
              "206  216      1     2      0  ...      1    0.244       0.268   0\n",
              "207  217      2     2      0  ...      0    0.245       0.058   0\n",
              "208  218      2     1      2  ...      1    0.343       0.099   0\n",
              "\n",
              "[209 rows x 10 columns]"
            ]
          },
          "metadata": {
            "tags": []
          },
          "execution_count": 50
        }
      ]
    },
    {
      "cell_type": "code",
      "metadata": {
        "id": "sFa3xCY8L-9n"
      },
      "source": [
        ""
      ],
      "execution_count": 50,
      "outputs": []
    }
  ]
}